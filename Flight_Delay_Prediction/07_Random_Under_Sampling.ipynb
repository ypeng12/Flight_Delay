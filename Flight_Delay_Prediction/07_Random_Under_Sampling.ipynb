{
 "cells": [
  {
   "cell_type": "markdown",
   "id": "otherwise-uncertainty",
   "metadata": {},
   "source": [
    "# Flight Delay Prediction\n",
    "## Random Under Sampling to Handle Imbalance in ArrDel15\n",
    "- <strong>Environment Setup:</strong> import libraries and load the dataset\n",
    "- <strong>Imbalanced Data Analysis:</strong> understanding how the dataset balance is restored using random under sampling\n",
    "- <strong>Random Undersampling:</strong> or down-sampling the majority class is where the observations of the majority class are randomly removed to reduce its influence on the machine learning algorithm\n",
    "- <strong>Inference:</strong> understand how the model produces results and choosing the best classifier"
   ]
  },
  {
   "cell_type": "markdown",
   "id": "laden-cookie",
   "metadata": {},
   "source": [
    "## Environment Setup"
   ]
  },
  {
   "cell_type": "code",
   "execution_count": 1,
   "id": "center-pressing",
   "metadata": {},
   "outputs": [
    {
     "name": "stderr",
     "output_type": "stream",
     "text": [
      "/home/admin/.local/lib/python3.8/site-packages/numpy/lib/arraysetops.py:580: FutureWarning: elementwise comparison failed; returning scalar instead, but in the future will perform elementwise comparison\n",
      "  mask |= (ar1 == a)\n"
     ]
    }
   ],
   "source": [
    "# Pre-requisites\n",
    "import pandas as pd\n",
    "import numpy as np\n",
    "import matplotlib\n",
    "import matplotlib.pyplot as plt\n",
    "import seaborn as sns\n",
    "\n",
    "# Store the classifier models to save time\n",
    "import joblib\n",
    "\n",
    "# Preprocessing\n",
    "from sklearn.preprocessing import LabelEncoder\n",
    "from sklearn.model_selection import train_test_split\n",
    "\n",
    "# Classifiers from scikit-learn\n",
    "from sklearn.linear_model import LogisticRegression\n",
    "from sklearn.tree import DecisionTreeClassifier\n",
    "from sklearn.ensemble import GradientBoostingClassifier\n",
    "from sklearn.ensemble import RandomForestClassifier\n",
    "from sklearn.ensemble import ExtraTreesClassifier\n",
    "\n",
    "# Performance metrics\n",
    "from sklearn.metrics import accuracy_score\n",
    "from sklearn.metrics import f1_score\n",
    "from sklearn.metrics import precision_score\n",
    "from sklearn.metrics import recall_score\n",
    "from sklearn.metrics import classification_report\n",
    "from sklearn.metrics import confusion_matrix\n",
    "from sklearn.metrics import plot_confusion_matrix\n",
    "\n",
    "from sklearn.metrics import roc_curve\n",
    "from sklearn.metrics import roc_auc_score\n",
    "\n",
    "# Imbalanced dataset helpers\n",
    "from imblearn.under_sampling import RandomUnderSampler\n",
    "\n",
    "df = pd.read_csv(\"Data/flight_and_weather_encoded.csv\", index_col=0)"
   ]
  },
  {
   "cell_type": "markdown",
   "id": "technical-beaver",
   "metadata": {},
   "source": [
    "## Imbalanced Data Analysis"
   ]
  },
  {
   "cell_type": "markdown",
   "id": "moderate-stuff",
   "metadata": {},
   "source": [
    "### Dataset Without Handling Imbalance"
   ]
  },
  {
   "cell_type": "code",
   "execution_count": 2,
   "id": "spoken-madrid",
   "metadata": {},
   "outputs": [
    {
     "data": {
      "image/png": "[encoded data removed]",
      "text/plain": [
       "<Figure size 432x288 with 1 Axes>"
      ]
     },
     "metadata": {
      "needs_background": "light"
     },
     "output_type": "display_data"
    },
    {
     "name": "stdout",
     "output_type": "stream",
     "text": [
      "0.0    1463378\n",
      "1.0     388058\n",
      "Name: ArrDel15, dtype: int64\n"
     ]
    }
   ],
   "source": [
    "# Plotting the percentage of observations that fall under each class\n",
    "ax = df[\"ArrDel15\"].value_counts().sort_values().plot(kind=\"barh\", color=[\"r\", \"g\"])\n",
    "ax.set_axisbelow(True)\n",
    "ax.grid()\n",
    "totals= []\n",
    "for i in ax.patches:\n",
    "    totals.append(i.get_width())\n",
    "total = sum(totals)\n",
    "for i in ax.patches:\n",
    "     ax.text(i.get_width()+.3, i.get_y()+.20, \n",
    "     str(round((i.get_width()/total)*100, 2))+'%', \n",
    "     fontsize=10, color='black')\n",
    "plt.title(\"ArrDel15\", fontsize=20)\n",
    "plt.xlabel(\"Count\", fontsize=14)\n",
    "plt.ylabel(\"Class\", fontsize=14)\n",
    "plt.show()\n",
    "print(df[\"ArrDel15\"].value_counts())\n",
    "fig = ax.get_figure()\n",
    "fig.savefig(\"Img/07_01_Dataset_ArrDel15_Class_Imbalance.png\")"
   ]
  },
  {
   "cell_type": "code",
   "execution_count": 3,
   "id": "hawaiian-warehouse",
   "metadata": {},
   "outputs": [
    {
     "name": "stdout",
     "output_type": "stream",
     "text": [
      "\n",
      "Dataset shape: (1851436, 24)\n",
      "features_train shape: (1481148, 23) | features_test shape: (370288, 23)\n",
      "labels_train shape: (1481148,) | labels_test shape: (370288,)\n"
     ]
    }
   ],
   "source": [
    "features = df.loc[:, df.columns != \"ArrDel15\"]\n",
    "labels = np.asarray(df[\"ArrDel15\"])\n",
    "# Number of samples/observations/rows is greater than 100,000\n",
    "print(f\"\\nDataset shape: {df.shape}\")\n",
    "features_train, features_test, labels_train, labels_test = train_test_split(features, labels, test_size=0.20, random_state=42)\n",
    "print(f\"features_train shape: {features_train.shape} | features_test shape: {features_test.shape}\")\n",
    "print(f\"labels_train shape: {labels_train.shape} | labels_test shape: {labels_test.shape}\")\n",
    "# print(f\"{features_train.shape[1]} Features: {features_train.columns.to_list()}\")\n",
    "del features\n",
    "del labels"
   ]
  },
  {
   "cell_type": "markdown",
   "id": "funded-gateway",
   "metadata": {},
   "source": [
    "### Training Data Without Handling Imbalance"
   ]
  },
  {
   "cell_type": "code",
   "execution_count": 4,
   "id": "narrow-running",
   "metadata": {},
   "outputs": [
    {
     "data": {
      "image/png": "[encoded data removed]",
      "text/plain": [
       "<Figure size 432x288 with 1 Axes>"
      ]
     },
     "metadata": {
      "needs_background": "light"
     },
     "output_type": "display_data"
    },
    {
     "name": "stdout",
     "output_type": "stream",
     "text": [
      "0.0    1170484\n",
      "1.0     310664\n",
      "dtype: int64\n"
     ]
    }
   ],
   "source": [
    "# Plotting the percentage of observations that fall under each class\n",
    "ax = pd.DataFrame(labels_train).value_counts().sort_values().plot(kind=\"barh\", color=[\"r\", \"g\"])\n",
    "ax.set_axisbelow(True)\n",
    "ax.grid()\n",
    "totals= []\n",
    "for i in ax.patches:\n",
    "    totals.append(i.get_width())\n",
    "total = sum(totals)\n",
    "for i in ax.patches:\n",
    "     ax.text(i.get_width()+.3, i.get_y()+.20, \n",
    "     str(round((i.get_width()/total)*100, 2))+'%', \n",
    "     fontsize=10, color='black')\n",
    "plt.title(\"ArrDel15\", fontsize=20)\n",
    "plt.xlabel(\"Count\", fontsize=14)\n",
    "plt.ylabel(\"Class\", fontsize=14)\n",
    "plt.show()\n",
    "print(pd.DataFrame(labels_train).value_counts())\n",
    "fig = ax.get_figure()\n",
    "fig.savefig(\"Img/07_02_Training_ArrDel15_Class_Imbalance.png\")"
   ]
  },
  {
   "cell_type": "markdown",
   "id": "verbal-imagination",
   "metadata": {},
   "source": [
    "## Random Undersampling"
   ]
  },
  {
   "cell_type": "code",
   "execution_count": 5,
   "id": "stupid-reflection",
   "metadata": {},
   "outputs": [],
   "source": [
    "rus = RandomUnderSampler(random_state=42)\n",
    "features_train, labels_train = rus.fit_resample(features_train, labels_train)"
   ]
  },
  {
   "cell_type": "markdown",
   "id": "uniform-converter",
   "metadata": {},
   "source": [
    "### Balancing the Training Data"
   ]
  },
  {
   "cell_type": "code",
   "execution_count": 6,
   "id": "south-electron",
   "metadata": {},
   "outputs": [
    {
     "data": {
      "image/png": "[encoded data removed]",
      "text/plain": [
       "<Figure size 432x288 with 1 Axes>"
      ]
     },
     "metadata": {
      "needs_background": "light"
     },
     "output_type": "display_data"
    },
    {
     "name": "stdout",
     "output_type": "stream",
     "text": [
      "0.0    310664\n",
      "1.0    310664\n",
      "dtype: int64\n"
     ]
    }
   ],
   "source": [
    "# Plotting the percentage of observations that fall under each class\n",
    "ax = pd.DataFrame(labels_train).value_counts().sort_values().plot(kind=\"barh\", color=[\"r\", \"g\"])\n",
    "ax.set_axisbelow(True)\n",
    "ax.grid()\n",
    "totals= []\n",
    "for i in ax.patches:\n",
    "    totals.append(i.get_width())\n",
    "total = sum(totals)\n",
    "for i in ax.patches:\n",
    "     ax.text(i.get_width()+.3, i.get_y()+.20, \n",
    "     str(round((i.get_width()/total)*100, 2))+'%', \n",
    "     fontsize=10, color='black')\n",
    "plt.title(\"ArrDel15\", fontsize=20)\n",
    "plt.xlabel(\"Count\", fontsize=14)\n",
    "plt.ylabel(\"Class\", fontsize=14)\n",
    "plt.show()\n",
    "print(pd.DataFrame(labels_train).value_counts())\n",
    "fig = ax.get_figure()\n",
    "fig.savefig(\"Img/07_03_RandomUnderSampling_Training_ArrDel15_Class.png\")"
   ]
  },
  {
   "cell_type": "markdown",
   "id": "greek-warrior",
   "metadata": {},
   "source": [
    "### Logistic Regression"
   ]
  },
  {
   "cell_type": "code",
   "execution_count": 7,
   "id": "comparable-paragraph",
   "metadata": {},
   "outputs": [
    {
     "name": "stdout",
     "output_type": "stream",
     "text": [
      "              precision    recall  f1-score   support\n",
      "\n",
      "         0.0       0.94      0.93      0.93    292894\n",
      "         1.0       0.74      0.78      0.76     77394\n",
      "\n",
      "    accuracy                           0.90    370288\n",
      "   macro avg       0.84      0.85      0.85    370288\n",
      "weighted avg       0.90      0.90      0.90    370288\n",
      "\n",
      "<sklearn.metrics._plot.confusion_matrix.ConfusionMatrixDisplay object at 0x7ff617dc2af0>\n"
     ]
    },
    {
     "data": {
      "image/png": "[encoded data removed]",
      "text/plain": [
       "<Figure size 432x288 with 2 Axes>"
      ]
     },
     "metadata": {
      "needs_background": "light"
     },
     "output_type": "display_data"
    }
   ],
   "source": [
    "# model = LogisticRegression(n_jobs=-1)\n",
    "# model.fit(features_train, labels_train)\n",
    "# joblib.dump(model, \"./RandomUnderSampling/LogisticRegression.joblib\")\n",
    "model = joblib.load(\"./RandomUnderSampling/LogisticRegression.joblib\")\n",
    "model_pred = model.predict(features_test)\n",
    "# print(confusion_matrix(labels_test, model_pred))\n",
    "print(classification_report(labels_test, model_pred))\n",
    "conf_mat_plot = plot_confusion_matrix(model, features_test, labels_test)\n",
    "plt.title(\"Logistic Regression\")\n",
    "print(conf_mat_plot)\n",
    "plt.savefig(\"Img/07_04_RandomUnderSampling_LR_Confusion_Matrix\")\n",
    "del model\n",
    "del model_pred"
   ]
  },
  {
   "cell_type": "markdown",
   "id": "lesbian-watch",
   "metadata": {},
   "source": [
    "### Decision Tree Classifier"
   ]
  },
  {
   "cell_type": "code",
   "execution_count": 8,
   "id": "settled-georgia",
   "metadata": {},
   "outputs": [
    {
     "name": "stdout",
     "output_type": "stream",
     "text": [
      "              precision    recall  f1-score   support\n",
      "\n",
      "         0.0       0.94      0.79      0.86    292894\n",
      "         1.0       0.50      0.81      0.62     77394\n",
      "\n",
      "    accuracy                           0.79    370288\n",
      "   macro avg       0.72      0.80      0.74    370288\n",
      "weighted avg       0.85      0.79      0.81    370288\n",
      "\n",
      "<sklearn.metrics._plot.confusion_matrix.ConfusionMatrixDisplay object at 0x7ff66dfc0cd0>\n"
     ]
    },
    {
     "data": {
      "image/png": "[encoded data removed]",
      "text/plain": [
       "<Figure size 432x288 with 2 Axes>"
      ]
     },
     "metadata": {
      "needs_background": "light"
     },
     "output_type": "display_data"
    }
   ],
   "source": [
    "# model = DecisionTreeClassifier()\n",
    "# model.fit(features_train, labels_train)\n",
    "# joblib.dump(model, \"./RandomUnderSampling/DecisionTreeClassifier.joblib\")\n",
    "model = joblib.load(\"./RandomUnderSampling/DecisionTreeClassifier.joblib\")\n",
    "model_pred = model.predict(features_test)\n",
    "# print(confusion_matrix(labels_test, model_pred))\n",
    "print(classification_report(labels_test, model_pred))\n",
    "conf_mat_plot = plot_confusion_matrix(model, features_test, labels_test)\n",
    "plt.title(\"Decision Tree Classifier\")\n",
    "print(conf_mat_plot)\n",
    "plt.savefig(\"Img/07_05_RandomUnderSampling_DTC_Confusion_Matrix\")\n",
    "del model\n",
    "del model_pred"
   ]
  },
  {
   "cell_type": "markdown",
   "id": "cleared-looking",
   "metadata": {},
   "source": [
    "### Gradient Boosting Classifier"
   ]
  },
  {
   "cell_type": "code",
   "execution_count": 9,
   "id": "planned-produce",
   "metadata": {},
   "outputs": [
    {
     "name": "stdout",
     "output_type": "stream",
     "text": [
      "              precision    recall  f1-score   support\n",
      "\n",
      "         0.0       0.94      0.92      0.93    292894\n",
      "         1.0       0.73      0.79      0.76     77394\n",
      "\n",
      "    accuracy                           0.90    370288\n",
      "   macro avg       0.84      0.86      0.85    370288\n",
      "weighted avg       0.90      0.90      0.90    370288\n",
      "\n",
      "<sklearn.metrics._plot.confusion_matrix.ConfusionMatrixDisplay object at 0x7ff66d785940>\n"
     ]
    },
    {
     "data": {
      "image/png": "[encoded data removed]",
      "text/plain": [
       "<Figure size 432x288 with 2 Axes>"
      ]
     },
     "metadata": {
      "needs_background": "light"
     },
     "output_type": "display_data"
    }
   ],
   "source": [
    "# model = GradientBoostingClassifier()\n",
    "# model.fit(features_train, labels_train)\n",
    "# joblib.dump(model, \"./RandomUnderSampling/GradientBoostingClassifier.joblib\")\n",
    "model = joblib.load(\"./RandomUnderSampling/GradientBoostingClassifier.joblib\")\n",
    "model_pred = model.predict(features_test)\n",
    "# print(confusion_matrix(labels_test, model_pred))\n",
    "print(classification_report(labels_test, model_pred))\n",
    "conf_mat_plot = plot_confusion_matrix(model, features_test, labels_test)\n",
    "plt.title(\"Gradient Boosting Classifier (XGBoost)\")\n",
    "print(conf_mat_plot)\n",
    "plt.savefig(\"Img/07_06_RandomUnderSampling_GBC_Confusion_Matrix\")\n",
    "del model\n",
    "del model_pred"
   ]
  },
  {
   "cell_type": "markdown",
   "id": "intense-monthly",
   "metadata": {},
   "source": [
    "### Random Forest"
   ]
  },
  {
   "cell_type": "code",
   "execution_count": 10,
   "id": "applied-forge",
   "metadata": {},
   "outputs": [
    {
     "name": "stdout",
     "output_type": "stream",
     "text": [
      "              precision    recall  f1-score   support\n",
      "\n",
      "         0.0       0.95      0.91      0.93    292894\n",
      "         1.0       0.70      0.81      0.75     77394\n",
      "\n",
      "    accuracy                           0.89    370288\n",
      "   macro avg       0.83      0.86      0.84    370288\n",
      "weighted avg       0.90      0.89      0.89    370288\n",
      "\n",
      "<sklearn.metrics._plot.confusion_matrix.ConfusionMatrixDisplay object at 0x7ff617dd97f0>\n"
     ]
    },
    {
     "data": {
      "image/png": "[encoded data removed]",
      "text/plain": [
       "<Figure size 432x288 with 2 Axes>"
      ]
     },
     "metadata": {
      "needs_background": "light"
     },
     "output_type": "display_data"
    }
   ],
   "source": [
    "# model = RandomForestClassifier(n_jobs=-1)\n",
    "# model.fit(features_train, labels_train)\n",
    "# joblib.dump(model, \"./RandomUnderSampling/RandomForestClassifier.joblib\")\n",
    "model = joblib.load(\"./RandomUnderSampling/RandomForestClassifier.joblib\")\n",
    "model_pred = model.predict(features_test)\n",
    "# print(confusion_matrix(labels_test, model_pred))\n",
    "print(classification_report(labels_test, model_pred))\n",
    "conf_mat_plot = plot_confusion_matrix(model, features_test, labels_test)\n",
    "plt.title(\"Random Forest Classifier\")\n",
    "print(conf_mat_plot)\n",
    "plt.savefig(\"Img/07_07_RandomUnderSampling_RFC_Confusion_Matrix\")\n",
    "del model\n",
    "del model_pred"
   ]
  },
  {
   "cell_type": "markdown",
   "id": "steady-conclusion",
   "metadata": {},
   "source": [
    "### Extra Trees Classifier"
   ]
  },
  {
   "cell_type": "code",
   "execution_count": 11,
   "id": "occupational-marketing",
   "metadata": {},
   "outputs": [
    {
     "name": "stdout",
     "output_type": "stream",
     "text": [
      "              precision    recall  f1-score   support\n",
      "\n",
      "         0.0       0.95      0.89      0.92    292894\n",
      "         1.0       0.67      0.82      0.74     77394\n",
      "\n",
      "    accuracy                           0.88    370288\n",
      "   macro avg       0.81      0.86      0.83    370288\n",
      "weighted avg       0.89      0.88      0.88    370288\n",
      "\n",
      "<sklearn.metrics._plot.confusion_matrix.ConfusionMatrixDisplay object at 0x7ff62e221880>\n"
     ]
    },
    {
     "data": {
      "image/png": "[encoded data removed]",
      "text/plain": [
       "<Figure size 432x288 with 2 Axes>"
      ]
     },
     "metadata": {
      "needs_background": "light"
     },
     "output_type": "display_data"
    }
   ],
   "source": [
    "model = ExtraTreesClassifier(n_jobs=-1)\n",
    "model.fit(features_train, labels_train)\n",
    "# joblib.dump(model, \"./RandomUnderSampling/ExtraTreesClassifier.joblib\")\n",
    "# model = joblib.load(\"./RandomUnderSampling/ExtraTreesClassifier.joblib\")\n",
    "model_pred = model.predict(features_test)\n",
    "# print(confusion_matrix(labels_test, model_pred))\n",
    "print(classification_report(labels_test, model_pred))\n",
    "conf_mat_plot = plot_confusion_matrix(model, features_test, labels_test)\n",
    "plt.title(\"Extra Trees Classifier\")\n",
    "print(conf_mat_plot)\n",
    "plt.savefig(\"Img/07_08_RandomUnderSampling_ETC_Confusion_Matrix\")"
   ]
  },
  {
   "cell_type": "markdown",
   "id": "superb-matrix",
   "metadata": {},
   "source": [
    "## Inference\n",
    "<table>\n",
    "    <thead>\n",
    "        <tr>\n",
    "            <th rowspan=\"3\">Classification Model</th>\n",
    "            <th colspan=\"8\">Performance Metric</th>\n",
    "        </tr>\n",
    "        <tr>\n",
    "            <th colspan=\"2\">Precision</th>\n",
    "            <th colspan=\"2\">Recall</th>\n",
    "            <th colspan=\"2\">F1 Score</th>\n",
    "            <th rowspan=\"2\" colspan=\"2\">Accuracy</th>\n",
    "        </tr>\n",
    "        <tr>\n",
    "            <th>0.0</th>\n",
    "            <th>1.0</th>\n",
    "            <th>0.0</th>\n",
    "            <th>1.0</th>\n",
    "            <th>0.0</th>\n",
    "            <th>1.0</th>\n",
    "        </tr>\n",
    "    </thead>\n",
    "    <tbody>\n",
    "        <tr>\n",
    "            <th>Logistic Regression</th>\n",
    "            <td>0.94</td>\n",
    "            <td>0.74</td>\n",
    "            <td>0.93</td>\n",
    "            <td>0.78</td>\n",
    "            <td>0.93</td>\n",
    "            <td>0.76</td>\n",
    "            <td>0.90</td>\n",
    "        </tr>\n",
    "        <tr>\n",
    "            <th>Decision Tree Classifier</th>\n",
    "            <td>0.94</td>\n",
    "            <td>0.50</td>\n",
    "            <td>0.79</td>\n",
    "            <td>0.81</td>\n",
    "            <td>0.86</td>\n",
    "            <td>0.62</td>\n",
    "            <td>0.79</td>\n",
    "        </tr>\n",
    "        <tr>\n",
    "            <th>Extra Trees Classifier</th>\n",
    "            <td>0.95</td>\n",
    "            <td>0.67</td>\n",
    "            <td>0.89</td>\n",
    "            <td>0.82</td>\n",
    "            <td>0.92</td>\n",
    "            <td>0.74</td>\n",
    "            <td>0.88</td>\n",
    "        </tr>\n",
    "        <tr>\n",
    "            <th>Gradient Boosting Classifier</th>\n",
    "            <td>0.94</td>\n",
    "            <td>0.73</td>\n",
    "            <td>0.92</td>\n",
    "            <td>0.79</td>\n",
    "            <td>0.93</td>\n",
    "            <td>0.76</td>\n",
    "            <td>0.90</td>\n",
    "        </tr>\n",
    "        <tr>\n",
    "            <th>Random Forest Classifier</th>\n",
    "            <td>0.95</td>\n",
    "            <td>0.70</td>\n",
    "            <td>0.91</td>\n",
    "            <td>0.81</td>\n",
    "            <td>0.93</td>\n",
    "            <td>0.75</td>\n",
    "            <td>0.89</td>\n",
    "        </tr>\n",
    "    </tbody>\n",
    "</table>"
   ]
  }
 ],
 "metadata": {
  "kernelspec": {
   "display_name": "Python 3",
   "language": "python",
   "name": "python3"
  },
  "language_info": {
   "codemirror_mode": {
    "name": "ipython",
    "version": 3
   },
   "file_extension": ".py",
   "mimetype": "text/x-python",
   "name": "python",
   "nbconvert_exporter": "python",
   "pygments_lexer": "ipython3",
   "version": "3.8.8"
  }
 },
 "nbformat": 4,
 "nbformat_minor": 5
}
