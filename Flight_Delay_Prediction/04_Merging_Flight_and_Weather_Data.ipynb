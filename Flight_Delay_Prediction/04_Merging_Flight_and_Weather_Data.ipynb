{
 "cells": [
  {
   "cell_type": "markdown",
   "id": "increased-lighter",
   "metadata": {},
   "source": [
    "# Flight Delay Prediction\n",
    "## Merging Flight and Weather Data\n",
    "\n",
    "- Loading the aggregated flight and weather dataset csv files into Data Frames\n",
    "- Column <strong>time</strong> in the weather dataset has been rounded to the nearest hour\n",
    "- Processing the <strong>CRSDepTime</strong> column in the <strong>flight dataset</strong> to set up a <strong>Time_new</strong> column for merging by rounding to the nearest hour to match with the <strong>weather dataset</strong>\n",
    "- Merging both the datasets into a df\n",
    "- Ensuring by visualizing that the data has no missing values\n",
    "- Storing df as <strong>flight_and_weather.csv</strong> in the <strong>Data</strong> directory"
   ]
  },
  {
   "cell_type": "markdown",
   "id": "brilliant-collectible",
   "metadata": {},
   "source": [
    "## Prerequisites"
   ]
  },
  {
   "cell_type": "code",
   "execution_count": 1,
   "id": "atmospheric-diameter",
   "metadata": {},
   "outputs": [
    {
     "name": "stderr",
     "output_type": "stream",
     "text": [
      "/home/admin/.local/lib/python3.8/site-packages/numpy/lib/arraysetops.py:580: FutureWarning: elementwise comparison failed; returning scalar instead, but in the future will perform elementwise comparison\n",
      "  mask |= (ar1 == a)\n"
     ]
    }
   ],
   "source": [
    "# Loading the required modules\n",
    "import pandas as pd\n",
    "import missingno as msno\n",
    "\n",
    "# Loading the aggregated flight dataset and weather dataset\n",
    "fd_df = pd.read_csv(\"Data/flight_data.csv\", index_col=0)\n",
    "wd_df = pd.read_csv(\"Data/weather_data.csv\", index_col=0)"
   ]
  },
  {
   "cell_type": "markdown",
   "id": "chronic-brown",
   "metadata": {},
   "source": [
    "## Merge Criteria Analysis\n",
    "The time column observations are rounded up to the nearest full hour in the weather dataset. Therefore, the CRSDepTime (scheduled flight departure time) of the flight dataset is also rounded up to the nearest full hour, so that the column can be equi-joined with the weather dataset."
   ]
  },
  {
   "cell_type": "code",
   "execution_count": 2,
   "id": "tribal-increase",
   "metadata": {},
   "outputs": [
    {
     "data": {
      "text/plain": [
       "0            0\n",
       "1          100\n",
       "2          200\n",
       "3          300\n",
       "4          400\n",
       "          ... \n",
       "263155    1900\n",
       "263156    2000\n",
       "263157    2100\n",
       "263158    2200\n",
       "263159    2300\n",
       "Name: time, Length: 263160, dtype: int64"
      ]
     },
     "execution_count": 2,
     "metadata": {},
     "output_type": "execute_result"
    }
   ],
   "source": [
    "wd_df[\"time\"]"
   ]
  },
  {
   "cell_type": "code",
   "execution_count": 3,
   "id": "material-fetish",
   "metadata": {},
   "outputs": [
    {
     "data": {
      "text/plain": [
       "0          2010\n",
       "1          1450\n",
       "2          2025\n",
       "3            52\n",
       "4          1445\n",
       "           ... \n",
       "1851431    1500\n",
       "1851432    1820\n",
       "1851433     955\n",
       "1851434     630\n",
       "1851435    1235\n",
       "Name: CRSDepTime, Length: 1851436, dtype: int64"
      ]
     },
     "execution_count": 3,
     "metadata": {},
     "output_type": "execute_result"
    }
   ],
   "source": [
    "fd_df[\"CRSDepTime\"]"
   ]
  },
  {
   "cell_type": "code",
   "execution_count": 4,
   "id": "cathedral-geography",
   "metadata": {},
   "outputs": [
    {
     "data": {
      "text/html": [
       "<div>\n",
       "<style scoped>\n",
       "    .dataframe tbody tr th:only-of-type {\n",
       "        vertical-align: middle;\n",
       "    }\n",
       "\n",
       "    .dataframe tbody tr th {\n",
       "        vertical-align: top;\n",
       "    }\n",
       "\n",
       "    .dataframe thead th {\n",
       "        text-align: right;\n",
       "    }\n",
       "</style>\n",
       "<table border=\"1\" class=\"dataframe\">\n",
       "  <thead>\n",
       "    <tr style=\"text-align: right;\">\n",
       "      <th></th>\n",
       "      <th>Time_new</th>\n",
       "      <th>CRSDepTime</th>\n",
       "    </tr>\n",
       "  </thead>\n",
       "  <tbody>\n",
       "    <tr>\n",
       "      <th>0</th>\n",
       "      <td>2000</td>\n",
       "      <td>2010</td>\n",
       "    </tr>\n",
       "    <tr>\n",
       "      <th>1</th>\n",
       "      <td>1500</td>\n",
       "      <td>1450</td>\n",
       "    </tr>\n",
       "    <tr>\n",
       "      <th>2</th>\n",
       "      <td>2000</td>\n",
       "      <td>2025</td>\n",
       "    </tr>\n",
       "    <tr>\n",
       "      <th>3</th>\n",
       "      <td>100</td>\n",
       "      <td>52</td>\n",
       "    </tr>\n",
       "    <tr>\n",
       "      <th>4</th>\n",
       "      <td>1500</td>\n",
       "      <td>1445</td>\n",
       "    </tr>\n",
       "    <tr>\n",
       "      <th>...</th>\n",
       "      <td>...</td>\n",
       "      <td>...</td>\n",
       "    </tr>\n",
       "    <tr>\n",
       "      <th>1851431</th>\n",
       "      <td>1500</td>\n",
       "      <td>1500</td>\n",
       "    </tr>\n",
       "    <tr>\n",
       "      <th>1851432</th>\n",
       "      <td>1800</td>\n",
       "      <td>1820</td>\n",
       "    </tr>\n",
       "    <tr>\n",
       "      <th>1851433</th>\n",
       "      <td>1000</td>\n",
       "      <td>955</td>\n",
       "    </tr>\n",
       "    <tr>\n",
       "      <th>1851434</th>\n",
       "      <td>700</td>\n",
       "      <td>630</td>\n",
       "    </tr>\n",
       "    <tr>\n",
       "      <th>1851435</th>\n",
       "      <td>1300</td>\n",
       "      <td>1235</td>\n",
       "    </tr>\n",
       "  </tbody>\n",
       "</table>\n",
       "<p>1851436 rows × 2 columns</p>\n",
       "</div>"
      ],
      "text/plain": [
       "         Time_new  CRSDepTime\n",
       "0            2000        2010\n",
       "1            1500        1450\n",
       "2            2000        2025\n",
       "3             100          52\n",
       "4            1500        1445\n",
       "...           ...         ...\n",
       "1851431      1500        1500\n",
       "1851432      1800        1820\n",
       "1851433      1000         955\n",
       "1851434       700         630\n",
       "1851435      1300        1235\n",
       "\n",
       "[1851436 rows x 2 columns]"
      ]
     },
     "execution_count": 4,
     "metadata": {},
     "output_type": "execute_result"
    }
   ],
   "source": [
    "# Creating a list to store the rounded CRSDepTime of flight data \n",
    "new_time = []\n",
    "# Iterating through CRSDepTime\n",
    "for time in fd_df[\"CRSDepTime\"]:\n",
    "    time = int(time)\n",
    "    # Obtaining the minutes\n",
    "    m = time % 100\n",
    "    # If it is less than 30 mins, just subtract to round down\n",
    "    if m < 30:\n",
    "        time = time - m\n",
    "    # If it is greater than or equal to 30 mins, round up\n",
    "    elif(m >= 30) :\n",
    "        time = time + (100 - m)\n",
    "    # If it is 2400, make it 0\n",
    "    if(time == 2400):\n",
    "        time = 0\n",
    "    new_time.append(time)\n",
    "fd_df[\"Time_new\"] = new_time\n",
    "fd_df[[\"Time_new\", \"CRSDepTime\"]]"
   ]
  },
  {
   "cell_type": "markdown",
   "id": "dressed-excuse",
   "metadata": {},
   "source": [
    "## Merging the Flight and Weather Data\n",
    "Merging the data based on the departure airport, scheduled departure time (CRSDepTime) and date."
   ]
  },
  {
   "cell_type": "code",
   "execution_count": 5,
   "id": "white-uzbekistan",
   "metadata": {},
   "outputs": [],
   "source": [
    "# Merging the data based on the departure airport, scheduled departure time and date\n",
    "merged_df = pd.merge(fd_df, wd_df,\n",
    "              how = \"inner\",\n",
    "              left_on = [\"Origin\",\"Time_new\", \"FlightDate\"],\n",
    "              right_on = [\"airport\",\"time\", \"date\"])\n",
    "# Storing the merged dataset as a csv file\n",
    "merged_df.to_csv(\"Data/flight_and_weather.csv\")"
   ]
  },
  {
   "cell_type": "markdown",
   "id": "charming-mauritius",
   "metadata": {},
   "source": [
    "## Checking for Missing Data"
   ]
  },
  {
   "cell_type": "code",
   "execution_count": 6,
   "id": "emerging-pittsburgh",
   "metadata": {},
   "outputs": [
    {
     "name": "stdout",
     "output_type": "stream",
     "text": [
      "AxesSubplot(0.125,0.125;0.698618x0.755)\n",
      "Year               0\n",
      "Quarter            0\n",
      "Month              0\n",
      "DayofMonth         0\n",
      "FlightDate         0\n",
      "OriginAirportID    0\n",
      "Origin             0\n",
      "DestAirportID      0\n",
      "Dest               0\n",
      "CRSDepTime         0\n",
      "DepTime            0\n",
      "DepDelayMinutes    0\n",
      "DepDel15           0\n",
      "CRSArrTime         0\n",
      "ArrTime            0\n",
      "ArrDelayMinutes    0\n",
      "ArrDel15           0\n",
      "Time_new           0\n",
      "windspeedKmph      0\n",
      "winddirDegree      0\n",
      "weatherCode        0\n",
      "precipMM           0\n",
      "visibility         0\n",
      "pressure           0\n",
      "cloudcover         0\n",
      "DewPointF          0\n",
      "WindGustKmph       0\n",
      "tempF              0\n",
      "WindChillF         0\n",
      "humidity           0\n",
      "date               0\n",
      "time               0\n",
      "airport            0\n",
      "dtype: int64\n"
     ]
    },
    {
     "data": {
      "image/png": "[encoded data removed]",
      "text/plain": [
       "<Figure size 1800x720 with 2 Axes>"
      ]
     },
     "metadata": {
      "needs_background": "light"
     },
     "output_type": "display_data"
    }
   ],
   "source": [
    "print(msno.matrix(merged_df))\n",
    "print(merged_df.isnull().sum())"
   ]
  },
  {
   "cell_type": "code",
   "execution_count": 7,
   "id": "ceramic-trigger",
   "metadata": {},
   "outputs": [
    {
     "name": "stdout",
     "output_type": "stream",
     "text": [
      "Shape: (1851436, 33)\n",
      "\n",
      "\n",
      "<class 'pandas.core.frame.DataFrame'>\n",
      "Int64Index: 1851436 entries, 0 to 1851435\n",
      "Data columns (total 33 columns):\n",
      " #   Column           Dtype  \n",
      "---  ------           -----  \n",
      " 0   Year             int64  \n",
      " 1   Quarter          int64  \n",
      " 2   Month            int64  \n",
      " 3   DayofMonth       int64  \n",
      " 4   FlightDate       object \n",
      " 5   OriginAirportID  int64  \n",
      " 6   Origin           object \n",
      " 7   DestAirportID    int64  \n",
      " 8   Dest             object \n",
      " 9   CRSDepTime       int64  \n",
      " 10  DepTime          float64\n",
      " 11  DepDelayMinutes  float64\n",
      " 12  DepDel15         float64\n",
      " 13  CRSArrTime       int64  \n",
      " 14  ArrTime          float64\n",
      " 15  ArrDelayMinutes  float64\n",
      " 16  ArrDel15         float64\n",
      " 17  Time_new         int64  \n",
      " 18  windspeedKmph    int64  \n",
      " 19  winddirDegree    int64  \n",
      " 20  weatherCode      int64  \n",
      " 21  precipMM         float64\n",
      " 22  visibility       int64  \n",
      " 23  pressure         int64  \n",
      " 24  cloudcover       int64  \n",
      " 25  DewPointF        int64  \n",
      " 26  WindGustKmph     int64  \n",
      " 27  tempF            int64  \n",
      " 28  WindChillF       int64  \n",
      " 29  humidity         int64  \n",
      " 30  date             object \n",
      " 31  time             int64  \n",
      " 32  airport          object \n",
      "dtypes: float64(7), int64(21), object(5)\n",
      "memory usage: 480.3+ MB\n",
      "None\n"
     ]
    }
   ],
   "source": [
    "print(f\"Shape: {merged_df.shape}\\n\\n\")\n",
    "print(merged_df.info())"
   ]
  },
  {
   "cell_type": "code",
   "execution_count": 8,
   "id": "steady-shopper",
   "metadata": {},
   "outputs": [
    {
     "data": {
      "text/html": [
       "<div>\n",
       "<style scoped>\n",
       "    .dataframe tbody tr th:only-of-type {\n",
       "        vertical-align: middle;\n",
       "    }\n",
       "\n",
       "    .dataframe tbody tr th {\n",
       "        vertical-align: top;\n",
       "    }\n",
       "\n",
       "    .dataframe thead th {\n",
       "        text-align: right;\n",
       "    }\n",
       "</style>\n",
       "<table border=\"1\" class=\"dataframe\">\n",
       "  <thead>\n",
       "    <tr style=\"text-align: right;\">\n",
       "      <th></th>\n",
       "      <th>Year</th>\n",
       "      <th>Quarter</th>\n",
       "      <th>Month</th>\n",
       "      <th>DayofMonth</th>\n",
       "      <th>FlightDate</th>\n",
       "      <th>OriginAirportID</th>\n",
       "      <th>Origin</th>\n",
       "      <th>DestAirportID</th>\n",
       "      <th>Dest</th>\n",
       "      <th>CRSDepTime</th>\n",
       "      <th>...</th>\n",
       "      <th>pressure</th>\n",
       "      <th>cloudcover</th>\n",
       "      <th>DewPointF</th>\n",
       "      <th>WindGustKmph</th>\n",
       "      <th>tempF</th>\n",
       "      <th>WindChillF</th>\n",
       "      <th>humidity</th>\n",
       "      <th>date</th>\n",
       "      <th>time</th>\n",
       "      <th>airport</th>\n",
       "    </tr>\n",
       "  </thead>\n",
       "  <tbody>\n",
       "    <tr>\n",
       "      <th>0</th>\n",
       "      <td>2017</td>\n",
       "      <td>4</td>\n",
       "      <td>10</td>\n",
       "      <td>6</td>\n",
       "      <td>2017-10-06</td>\n",
       "      <td>11618</td>\n",
       "      <td>EWR</td>\n",
       "      <td>13930</td>\n",
       "      <td>ORD</td>\n",
       "      <td>2010</td>\n",
       "      <td>...</td>\n",
       "      <td>1018</td>\n",
       "      <td>13</td>\n",
       "      <td>68</td>\n",
       "      <td>8</td>\n",
       "      <td>78</td>\n",
       "      <td>78</td>\n",
       "      <td>73</td>\n",
       "      <td>2017-10-06</td>\n",
       "      <td>2000</td>\n",
       "      <td>EWR</td>\n",
       "    </tr>\n",
       "    <tr>\n",
       "      <th>1</th>\n",
       "      <td>2017</td>\n",
       "      <td>4</td>\n",
       "      <td>10</td>\n",
       "      <td>6</td>\n",
       "      <td>2017-10-06</td>\n",
       "      <td>11618</td>\n",
       "      <td>EWR</td>\n",
       "      <td>12266</td>\n",
       "      <td>IAH</td>\n",
       "      <td>2025</td>\n",
       "      <td>...</td>\n",
       "      <td>1018</td>\n",
       "      <td>13</td>\n",
       "      <td>68</td>\n",
       "      <td>8</td>\n",
       "      <td>78</td>\n",
       "      <td>78</td>\n",
       "      <td>73</td>\n",
       "      <td>2017-10-06</td>\n",
       "      <td>2000</td>\n",
       "      <td>EWR</td>\n",
       "    </tr>\n",
       "    <tr>\n",
       "      <th>2</th>\n",
       "      <td>2017</td>\n",
       "      <td>4</td>\n",
       "      <td>10</td>\n",
       "      <td>6</td>\n",
       "      <td>2017-10-06</td>\n",
       "      <td>11618</td>\n",
       "      <td>EWR</td>\n",
       "      <td>13204</td>\n",
       "      <td>MCO</td>\n",
       "      <td>1935</td>\n",
       "      <td>...</td>\n",
       "      <td>1018</td>\n",
       "      <td>13</td>\n",
       "      <td>68</td>\n",
       "      <td>8</td>\n",
       "      <td>78</td>\n",
       "      <td>78</td>\n",
       "      <td>73</td>\n",
       "      <td>2017-10-06</td>\n",
       "      <td>2000</td>\n",
       "      <td>EWR</td>\n",
       "    </tr>\n",
       "    <tr>\n",
       "      <th>3</th>\n",
       "      <td>2017</td>\n",
       "      <td>4</td>\n",
       "      <td>10</td>\n",
       "      <td>6</td>\n",
       "      <td>2017-10-06</td>\n",
       "      <td>11618</td>\n",
       "      <td>EWR</td>\n",
       "      <td>14107</td>\n",
       "      <td>PHX</td>\n",
       "      <td>1930</td>\n",
       "      <td>...</td>\n",
       "      <td>1018</td>\n",
       "      <td>13</td>\n",
       "      <td>68</td>\n",
       "      <td>8</td>\n",
       "      <td>78</td>\n",
       "      <td>78</td>\n",
       "      <td>73</td>\n",
       "      <td>2017-10-06</td>\n",
       "      <td>2000</td>\n",
       "      <td>EWR</td>\n",
       "    </tr>\n",
       "    <tr>\n",
       "      <th>4</th>\n",
       "      <td>2017</td>\n",
       "      <td>4</td>\n",
       "      <td>10</td>\n",
       "      <td>6</td>\n",
       "      <td>2017-10-06</td>\n",
       "      <td>11618</td>\n",
       "      <td>EWR</td>\n",
       "      <td>14747</td>\n",
       "      <td>SEA</td>\n",
       "      <td>1940</td>\n",
       "      <td>...</td>\n",
       "      <td>1018</td>\n",
       "      <td>13</td>\n",
       "      <td>68</td>\n",
       "      <td>8</td>\n",
       "      <td>78</td>\n",
       "      <td>78</td>\n",
       "      <td>73</td>\n",
       "      <td>2017-10-06</td>\n",
       "      <td>2000</td>\n",
       "      <td>EWR</td>\n",
       "    </tr>\n",
       "  </tbody>\n",
       "</table>\n",
       "<p>5 rows × 33 columns</p>\n",
       "</div>"
      ],
      "text/plain": [
       "   Year  Quarter  Month  DayofMonth  FlightDate  OriginAirportID Origin  \\\n",
       "0  2017        4     10           6  2017-10-06            11618    EWR   \n",
       "1  2017        4     10           6  2017-10-06            11618    EWR   \n",
       "2  2017        4     10           6  2017-10-06            11618    EWR   \n",
       "3  2017        4     10           6  2017-10-06            11618    EWR   \n",
       "4  2017        4     10           6  2017-10-06            11618    EWR   \n",
       "\n",
       "   DestAirportID Dest  CRSDepTime  ...  pressure  cloudcover  DewPointF  \\\n",
       "0          13930  ORD        2010  ...      1018          13         68   \n",
       "1          12266  IAH        2025  ...      1018          13         68   \n",
       "2          13204  MCO        1935  ...      1018          13         68   \n",
       "3          14107  PHX        1930  ...      1018          13         68   \n",
       "4          14747  SEA        1940  ...      1018          13         68   \n",
       "\n",
       "   WindGustKmph  tempF  WindChillF  humidity        date  time  airport  \n",
       "0             8     78          78        73  2017-10-06  2000      EWR  \n",
       "1             8     78          78        73  2017-10-06  2000      EWR  \n",
       "2             8     78          78        73  2017-10-06  2000      EWR  \n",
       "3             8     78          78        73  2017-10-06  2000      EWR  \n",
       "4             8     78          78        73  2017-10-06  2000      EWR  \n",
       "\n",
       "[5 rows x 33 columns]"
      ]
     },
     "execution_count": 8,
     "metadata": {},
     "output_type": "execute_result"
    }
   ],
   "source": [
    "merged_df.head()"
   ]
  },
  {
   "cell_type": "code",
   "execution_count": 9,
   "id": "provincial-color",
   "metadata": {},
   "outputs": [
    {
     "name": "stdout",
     "output_type": "stream",
     "text": [
      "(1851436, 33)\n",
      "\n"
     ]
    }
   ],
   "source": [
    "merged_df.drop_duplicates()\n",
    "print(merged_df.shape, end=\"\\n\\n\")"
   ]
  }
 ],
 "metadata": {
  "kernelspec": {
   "display_name": "Python 3",
   "language": "python",
   "name": "python3"
  },
  "language_info": {
   "codemirror_mode": {
    "name": "ipython",
    "version": 3
   },
   "file_extension": ".py",
   "mimetype": "text/x-python",
   "name": "python",
   "nbconvert_exporter": "python",
   "pygments_lexer": "ipython3",
   "version": "3.8.8"
  }
 },
 "nbformat": 4,
 "nbformat_minor": 5
}
