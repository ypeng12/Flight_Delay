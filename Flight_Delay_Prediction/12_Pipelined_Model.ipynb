{
 "cells": [
  {
   "cell_type": "markdown",
   "id": "b467c16e",
   "metadata": {},
   "source": [
    "###### Flight Delay Prediction\n",
    "## Pipe Lining\n",
    "\n",
    "- Preprocess Dataset with rows for ArrDelayMinutes and ArrDel15\n",
    "- Split for training and classification\n",
    "- Classify whether the flight will be delayed or not\n",
    "- Pipeline for regression to determine by how long it will be delayed\n",
    "- Perform regression analysis based on the Flight Delay Time"
   ]
  },
  {
   "cell_type": "markdown",
   "id": "1f4df3ff",
   "metadata": {},
   "source": [
    "## Environment Setup"
   ]
  },
  {
   "cell_type": "code",
   "execution_count": 1,
   "id": "2f1b02d9",
   "metadata": {},
   "outputs": [],
   "source": [
    "# Suppress warnings\n",
    "import warnings\n",
    "warnings.filterwarnings(\"ignore\")\n",
    "\n",
    "# Pre-requisites\n",
    "import pandas as pd\n",
    "import numpy as np\n",
    "import matplotlib\n",
    "import matplotlib.pyplot as plt\n",
    "import seaborn as sns\n",
    "\n",
    "# Store the classifier models to save time\n",
    "import joblib\n",
    "\n",
    "# Preprocessing\n",
    "from sklearn.preprocessing import LabelEncoder\n",
    "from sklearn.model_selection import train_test_split\n",
    "\n",
    "# Classifiers from scikit-learn\n",
    "from sklearn.ensemble import RandomForestClassifier\n",
    "\n",
    "# Performance metrics\n",
    "from sklearn.metrics import accuracy_score\n",
    "from sklearn.metrics import f1_score\n",
    "from sklearn.metrics import precision_score\n",
    "from sklearn.metrics import recall_score\n",
    "from sklearn.metrics import classification_report\n",
    "from sklearn.metrics import confusion_matrix\n",
    "from sklearn.metrics import plot_confusion_matrix\n",
    "\n",
    "from sklearn.metrics import roc_curve\n",
    "from sklearn.metrics import roc_auc_score\n",
    "\n",
    "# Regressors from scikit-learn\n",
    "from sklearn.ensemble import RandomForestRegressor\n",
    "\n",
    "# Performance metrics\n",
    "from sklearn.metrics import mean_squared_error\n",
    "from sklearn.metrics import mean_absolute_error\n",
    "from sklearn.metrics import r2_score\n",
    "\n",
    "# Imbalanced dataset helpers\n",
    "from imblearn.over_sampling import SMOTE"
   ]
  },
  {
   "cell_type": "markdown",
   "id": "c925f519",
   "metadata": {},
   "source": [
    "## Preprocessing"
   ]
  },
  {
   "cell_type": "markdown",
   "id": "4ab87131",
   "metadata": {},
   "source": [
    "### Dropping all columns except ArrDel15 and ArrDelayMinutes\n",
    "- Dropping redundant columns and those that cause data leaks\n",
    "- Encoding Origin and Dest"
   ]
  },
  {
   "cell_type": "code",
   "execution_count": 2,
   "id": "3c5b8423",
   "metadata": {},
   "outputs": [],
   "source": [
    "# df = pd.read_csv(\"Data/flight_and_weather.csv\", index_col=0)\n",
    "# print(f\"\\nBefore Encoding Shape: {df.shape}\", end=\"\\n\\n\")\n",
    "# # print(df.info())\n",
    "# # Dropping columns with redundant or duplicate data\n",
    "# df.drop(columns=[\"FlightDate\",\n",
    "#                  \"OriginAirportID\",\n",
    "#                  \"DestAirportID\",\n",
    "#                  \"CRSArrTime\",\n",
    "#                  \"ArrTime\",\n",
    "#                  \"Time_new\",\n",
    "#                  \"date\",\n",
    "#                  \"airport\"],\n",
    "#         inplace=True)\n",
    "# # print(df.info())\n",
    "# labelEncoder = LabelEncoder()\n",
    "# df[\"Origin\"] = labelEncoder.fit_transform(df[\"Origin\"])\n",
    "# df[\"Dest\"] = labelEncoder.fit_transform(df[\"Dest\"])\n",
    "# print(f\"\\nAfter Encoding Shape: {df.shape}\", end=\"\\n\\n\")\n",
    "# # df[[\"Origin\", \"Dest\"]]\n",
    "# # df.to_csv(\"Data/flight_and_weather_encoded_pipe_line.csv\");"
   ]
  },
  {
   "cell_type": "code",
   "execution_count": 3,
   "id": "de7bfdfb",
   "metadata": {},
   "outputs": [
    {
     "name": "stdout",
     "output_type": "stream",
     "text": [
      "\n",
      "Shape: (1851436, 25)\n",
      "\n",
      "<class 'pandas.core.frame.DataFrame'>\n",
      "Int64Index: 1851436 entries, 0 to 1851435\n",
      "Data columns (total 25 columns):\n",
      " #   Column           Dtype  \n",
      "---  ------           -----  \n",
      " 0   Year             int64  \n",
      " 1   Quarter          int64  \n",
      " 2   Month            int64  \n",
      " 3   DayofMonth       int64  \n",
      " 4   Origin           int64  \n",
      " 5   Dest             int64  \n",
      " 6   CRSDepTime       int64  \n",
      " 7   DepTime          float64\n",
      " 8   DepDelayMinutes  float64\n",
      " 9   DepDel15         float64\n",
      " 10  ArrDelayMinutes  float64\n",
      " 11  ArrDel15         float64\n",
      " 12  windspeedKmph    int64  \n",
      " 13  winddirDegree    int64  \n",
      " 14  weatherCode      int64  \n",
      " 15  precipMM         float64\n",
      " 16  visibility       int64  \n",
      " 17  pressure         int64  \n",
      " 18  cloudcover       int64  \n",
      " 19  DewPointF        int64  \n",
      " 20  WindGustKmph     int64  \n",
      " 21  tempF            int64  \n",
      " 22  WindChillF       int64  \n",
      " 23  humidity         int64  \n",
      " 24  time             int64  \n",
      "dtypes: float64(6), int64(19)\n",
      "memory usage: 367.3 MB\n",
      "None\n"
     ]
    }
   ],
   "source": [
    "df = pd.read_csv(\"Data/flight_and_weather_encoded_pipe_line.csv\", index_col=0);\n",
    "print(f\"\\nShape: {df.shape}\", end=\"\\n\\n\")\n",
    "print(df.info())"
   ]
  },
  {
   "cell_type": "markdown",
   "id": "1db15bb9",
   "metadata": {},
   "source": [
    "### Splitting the Dataset for Training & Testing"
   ]
  },
  {
   "cell_type": "code",
   "execution_count": 4,
   "id": "8b4e04b4",
   "metadata": {},
   "outputs": [
    {
     "name": "stdout",
     "output_type": "stream",
     "text": [
      "\n",
      "Dataset shape: (1851436, 25)\n",
      "features_train shape: (1481148, 23) | features_test shape: (370288, 23)\n",
      "labels_train shape: (1481148, 2) | labels_test shape: (370288, 2)\n"
     ]
    }
   ],
   "source": [
    "labels = df[[\"ArrDel15\", \"ArrDelayMinutes\"]]\n",
    "features = df.drop(columns = ['ArrDel15', 'ArrDelayMinutes'])\n",
    "# print(len(features.columns))\n",
    "# print(len(labels.columns))\n",
    "# Number of samples/observations/rows is greater than 100,000\n",
    "print(f\"\\nDataset shape: {df.shape}\")\n",
    "features_train, features_test, labels_train, labels_test = train_test_split(features, labels, test_size=0.20, random_state=42)\n",
    "print(f\"features_train shape: {features_train.shape} | features_test shape: {features_test.shape}\")\n",
    "print(f\"labels_train shape: {labels_train.shape} | labels_test shape: {labels_test.shape}\")\n",
    "# print(f\"{features_train.shape[1]} Features: {features_train.columns.to_list()}\")\n",
    "del features\n",
    "del labels"
   ]
  },
  {
   "cell_type": "markdown",
   "id": "c07cbb8f",
   "metadata": {},
   "source": [
    "### Filtering Data for Classification Training & Testing"
   ]
  },
  {
   "cell_type": "code",
   "execution_count": 5,
   "id": "6579a96d",
   "metadata": {},
   "outputs": [
    {
     "name": "stdout",
     "output_type": "stream",
     "text": [
      "classification_features_train shape: (1481148, 23) | classification_features_test shape: (370288, 23)\n",
      "classification_labels_train shape: (1481148,) | classification_labels_test shape: (370288,)\n"
     ]
    }
   ],
   "source": [
    "classification_features_train, classification_features_test = features_train, features_test\n",
    "classification_labels_train, classification_labels_test = labels_train[\"ArrDel15\"], labels_test[\"ArrDel15\"]\n",
    "print(f\"classification_features_train shape: {classification_features_train.shape} | classification_features_test shape: {classification_features_test.shape}\")\n",
    "print(f\"classification_labels_train shape: {classification_labels_train.shape} | classification_labels_test shape: {classification_labels_test.shape}\")"
   ]
  },
  {
   "cell_type": "markdown",
   "id": "5457f5dd",
   "metadata": {},
   "source": [
    "## Handling Imbalance for Classification using SMOTE"
   ]
  },
  {
   "cell_type": "markdown",
   "id": "f2479cf4",
   "metadata": {},
   "source": [
    "### Training Data Without Handling Imbalance"
   ]
  },
  {
   "cell_type": "code",
   "execution_count": 6,
   "id": "f99b5916",
   "metadata": {},
   "outputs": [
    {
     "data": {
      "image/png": "[encoded data removed]",
      "text/plain": [
       "<Figure size 432x288 with 1 Axes>"
      ]
     },
     "metadata": {
      "needs_background": "light"
     },
     "output_type": "display_data"
    },
    {
     "name": "stdout",
     "output_type": "stream",
     "text": [
      "ArrDel15\n",
      "0.0         1170643\n",
      "1.0          310505\n",
      "dtype: int64\n"
     ]
    }
   ],
   "source": [
    "# Plotting the percentage of observations that fall under each class\n",
    "ax = pd.DataFrame(classification_labels_train).value_counts().sort_values().plot(kind=\"barh\", color=[\"r\", \"g\"])\n",
    "ax.set_axisbelow(True)\n",
    "ax.grid()\n",
    "totals= []\n",
    "for i in ax.patches:\n",
    "    totals.append(i.get_width())\n",
    "total = sum(totals)\n",
    "for i in ax.patches:\n",
    "     ax.text(i.get_width()+.3, i.get_y()+.20, \n",
    "     str(round((i.get_width()/total)*100, 2))+'%', \n",
    "     fontsize=10, color='black')\n",
    "plt.title(\"ArrDel15\", fontsize=20)\n",
    "plt.xlabel(\"Count\", fontsize=14)\n",
    "plt.ylabel(\"Class\", fontsize=14)\n",
    "plt.show()\n",
    "print(pd.DataFrame(classification_labels_train).value_counts())\n",
    "fig = ax.get_figure()\n",
    "fig.savefig(\"Img/12_01_Training_ArrDel15_Class_Imbalance.png\")"
   ]
  },
  {
   "cell_type": "markdown",
   "id": "078a58f4",
   "metadata": {},
   "source": [
    "### SMOTE"
   ]
  },
  {
   "cell_type": "code",
   "execution_count": 7,
   "id": "977b91e8",
   "metadata": {},
   "outputs": [],
   "source": [
    "# smote = SMOTE(n_jobs=-1, random_state=42)\n",
    "# classification_features_train, classification_labels_train = smote.fit_resample(classification_features_train, classification_labels_train)"
   ]
  },
  {
   "cell_type": "code",
   "execution_count": 8,
   "id": "966831ee",
   "metadata": {},
   "outputs": [],
   "source": [
    "# SMOTE takes too long - approx 47 minutes\n",
    "# classification_features_train.to_csv(\"./Data/pipe_line_smote_features_train.csv\")\n",
    "# pd.DataFrame(classification_labels_train).to_csv(\"./Data/pipe_line_smote_labels_train.csv\")\n",
    "classification_features_train = pd.read_csv(\"./Data/pipe_line_smote_features_train.csv\", index_col=0)\n",
    "classification_labels_train = pd.read_csv(\"./Data/pipe_line_smote_labels_train.csv\", index_col=0)\n",
    "# print(classification_labels_train.shape)\n",
    "# print(classification_labels_train)"
   ]
  },
  {
   "cell_type": "markdown",
   "id": "7e37c388",
   "metadata": {},
   "source": [
    "### Training Data After Handling Imbalance with SMOTE"
   ]
  },
  {
   "cell_type": "code",
   "execution_count": 9,
   "id": "8b179dc7",
   "metadata": {},
   "outputs": [
    {
     "data": {
      "image/png": "[encoded data removed]",
      "text/plain": [
       "<Figure size 432x288 with 1 Axes>"
      ]
     },
     "metadata": {
      "needs_background": "light"
     },
     "output_type": "display_data"
    },
    {
     "name": "stdout",
     "output_type": "stream",
     "text": [
      "ArrDel15\n",
      "0.0         1170643\n",
      "1.0         1170643\n",
      "dtype: int64\n"
     ]
    }
   ],
   "source": [
    "# Plotting the percentage of observations that fall under each class\n",
    "ax = pd.DataFrame(classification_labels_train).value_counts().sort_values().plot(kind=\"barh\", color=[\"r\", \"g\"])\n",
    "ax.set_axisbelow(True)\n",
    "ax.grid()\n",
    "totals= []\n",
    "for i in ax.patches:\n",
    "    totals.append(i.get_width())\n",
    "total = sum(totals)\n",
    "for i in ax.patches:\n",
    "     ax.text(i.get_width()+.3, i.get_y()+.20, \n",
    "     str(round((i.get_width()/total)*100, 2))+'%', \n",
    "     fontsize=10, color='black')\n",
    "plt.title(\"ArrDel15\", fontsize=20)\n",
    "plt.xlabel(\"Count\", fontsize=14)\n",
    "plt.ylabel(\"Class\", fontsize=14)\n",
    "plt.show()\n",
    "print(pd.DataFrame(classification_labels_train).value_counts())\n",
    "fig = ax.get_figure()\n",
    "fig.savefig(\"Img/12_02_SMOTE_Training_ArrDel15_Class.png\")"
   ]
  },
  {
   "cell_type": "markdown",
   "id": "60e70911",
   "metadata": {},
   "source": [
    "## Random Forest Classification"
   ]
  },
  {
   "cell_type": "code",
   "execution_count": 10,
   "id": "3d7d6cbc",
   "metadata": {},
   "outputs": [],
   "source": [
    "# print(classification_labels_train)\n",
    "classification_labels_train = classification_labels_train[\"ArrDel15\"].values "
   ]
  },
  {
   "cell_type": "code",
   "execution_count": 11,
   "id": "c208b0e9",
   "metadata": {},
   "outputs": [
    {
     "name": "stdout",
     "output_type": "stream",
     "text": [
      "              precision    recall  f1-score   support\n",
      "\n",
      "         0.0       0.93      0.96      0.94    292735\n",
      "         1.0       0.81      0.74      0.78     77553\n",
      "\n",
      "    accuracy                           0.91    370288\n",
      "   macro avg       0.87      0.85      0.86    370288\n",
      "weighted avg       0.91      0.91      0.91    370288\n",
      "\n",
      "<sklearn.metrics._plot.confusion_matrix.ConfusionMatrixDisplay object at 0x7f0cb40a1b50>\n"
     ]
    },
    {
     "data": {
      "image/png": "[encoded data removed]",
      "text/plain": [
       "<Figure size 432x288 with 2 Axes>"
      ]
     },
     "metadata": {
      "needs_background": "light"
     },
     "output_type": "display_data"
    }
   ],
   "source": [
    "# model = RandomForestClassifier(n_jobs=-1)\n",
    "# model.fit(classification_features_train, classification_labels_train)\n",
    "# joblib.dump(model, \"./Pipelined/RandomForestClassifier.joblib\")\n",
    "model = joblib.load(\"./Pipelined/RandomForestClassifier.joblib\")\n",
    "model_pred = model.predict(classification_features_test)\n",
    "# print(confusion_matrix(classification_labels_test, model_pred))\n",
    "print(classification_report(classification_labels_test, model_pred))\n",
    "conf_mat_plot = plot_confusion_matrix(model, classification_features_test, classification_labels_test)\n",
    "plt.title(\"Random Forest Classifier\")\n",
    "print(conf_mat_plot)\n",
    "plt.savefig(\"Img/12_03_RFC_Confusion_Matrix\")\n",
    "# del model\n",
    "# del model_pred"
   ]
  },
  {
   "cell_type": "code",
   "execution_count": 12,
   "id": "29aa1d1a",
   "metadata": {},
   "outputs": [
    {
     "data": {
      "image/png": "[encoded data removed]",
      "text/plain": [
       "<Figure size 432x288 with 1 Axes>"
      ]
     },
     "metadata": {
      "needs_background": "light"
     },
     "output_type": "display_data"
    }
   ],
   "source": [
    "fpr, tpr, _ = roc_curve(classification_labels_test,  model_pred)\n",
    "auc = roc_auc_score(classification_labels_test, model_pred)\n",
    "plt.plot(fpr, tpr, label=\"{}, AUC={:.3f}\".format(\"Random Forest Classifier\", auc))\n",
    "    \n",
    "plt.plot([0,1], [0,1], color='orange', linestyle='--')\n",
    "\n",
    "plt.xticks(np.arange(0.0, 1.1, step=0.1))\n",
    "plt.xlabel(\"Flase Positive Rate\", fontsize=15)\n",
    "\n",
    "plt.yticks(np.arange(0.0, 1.1, step=0.1))\n",
    "plt.ylabel(\"True Positive Rate\", fontsize=15)\n",
    "\n",
    "plt.title(\"ROC AUC Analysis\", fontweight=\"bold\", fontsize=15)\n",
    "plt.legend(prop={\"size\":13}, loc=\"lower right\")\n",
    "\n",
    "plt.show()\n",
    "fig.savefig(\"Img/12_04_RFC_Pipeline_AUC_ROC\")"
   ]
  },
  {
   "cell_type": "markdown",
   "id": "8b3b9cfe",
   "metadata": {},
   "source": [
    "## Random Forest Regression"
   ]
  },
  {
   "cell_type": "markdown",
   "id": "a7eb5262",
   "metadata": {},
   "source": [
    "### Filtering data for regression based on predictions of the classifier"
   ]
  },
  {
   "cell_type": "code",
   "execution_count": 13,
   "id": "4a915317",
   "metadata": {},
   "outputs": [],
   "source": [
    "#  filter only those flights that are predicted as delayed by the classifier\n",
    "delayed_flights_features = features_test\n",
    "# add a column to filter\n",
    "delayed_flights_features[\"Predicted_ArrDel15\"] = model_pred\n",
    "delayed_flights_features = delayed_flights_features.loc[:][delayed_flights_features[\"Predicted_ArrDel15\"] == 1.0]\n",
    "delayed_flights_features = delayed_flights_features.drop([\"Predicted_ArrDel15\"], axis=1)"
   ]
  },
  {
   "cell_type": "code",
   "execution_count": 14,
   "id": "811ed06f",
   "metadata": {},
   "outputs": [],
   "source": [
    "delayed_flights_labels = pd.DataFrame(labels_test[\"ArrDelayMinutes\"])\n",
    "delayed_flights_labels[\"Predicted_ArrDel15\"] = model_pred\n",
    "delayed_flights_labels = delayed_flights_labels.loc[:][delayed_flights_labels[\"Predicted_ArrDel15\"] == 1.0]\n",
    "delayed_flights_labels = delayed_flights_labels.drop([\"Predicted_ArrDel15\"], axis=1)\n",
    "delayed_flights_labels = np.asarray(delayed_flights_labels[\"ArrDelayMinutes\"])"
   ]
  },
  {
   "cell_type": "code",
   "execution_count": 15,
   "id": "8db56620",
   "metadata": {},
   "outputs": [
    {
     "data": {
      "text/plain": [
       "((70849, 23), (70849,))"
      ]
     },
     "execution_count": 15,
     "metadata": {},
     "output_type": "execute_result"
    }
   ],
   "source": [
    "delayed_flights_features.shape, delayed_flights_labels.shape"
   ]
  },
  {
   "cell_type": "markdown",
   "id": "c0b01887",
   "metadata": {},
   "source": [
    "### Splitting Data for Training & Testing"
   ]
  },
  {
   "cell_type": "code",
   "execution_count": 16,
   "id": "b6cb3a65",
   "metadata": {},
   "outputs": [
    {
     "name": "stdout",
     "output_type": "stream",
     "text": [
      "regression_features_train shape: (56679, 23) | regression_features_test shape: (14170, 23)\n",
      "regression_labels_train shape: (56679,) | regression_labels_test shape: (14170,)\n"
     ]
    }
   ],
   "source": [
    "regression_features_train, regression_features_test, regression_labels_train, regression_labels_test = train_test_split(delayed_flights_features, delayed_flights_labels, test_size=0.20, random_state=42)\n",
    "print(f\"regression_features_train shape: {regression_features_train.shape} | regression_features_test shape: {regression_features_test.shape}\")\n",
    "print(f\"regression_labels_train shape: {regression_labels_train.shape} | regression_labels_test shape: {regression_labels_test.shape}\")"
   ]
  },
  {
   "cell_type": "markdown",
   "id": "da2b6f51",
   "metadata": {},
   "source": [
    "### Random Forest Regressor"
   ]
  },
  {
   "cell_type": "code",
   "execution_count": 17,
   "id": "ef510ae2",
   "metadata": {},
   "outputs": [],
   "source": [
    "# Helper function for regression report - summary metrics\n",
    "perf_df = pd.DataFrame(columns=[\"Regressors\", \"MSE\", \"RMSE\", \"MAE\", \"R2\"])\n",
    "def print_metrics(labels_test, model_pred, regressor_name, perf_df):\n",
    "    \n",
    "    mse = mean_squared_error(labels_test, model_pred)\n",
    "    rmse = np.sqrt(mse)\n",
    "    mae = mean_absolute_error(labels_test, model_pred)\n",
    "    r2 = r2_score(labels_test, model_pred)\n",
    "    \n",
    "    print(f\"MSE      : {mse}\", end=\"\\n\\n\")\n",
    "    print(f\"RMSE     : {rmse}\", end=\"\\n\\n\")\n",
    "    print(f\"MAE      : {mae}\", end=\"\\n\\n\")\n",
    "    print(f\"R2 Score : {r2}\", end=\"\\n\\n\")\n",
    "    \n",
    "    perf_df = perf_df.append({\"Regressors\": regressor_name,\n",
    "                                        \"MSE\": mse, \n",
    "                                        \"RMSE\": rmse,\n",
    "                                        \"MAE\": mae,\n",
    "                                        \"R2\": r2}, ignore_index=True)\n",
    "    return perf_df"
   ]
  },
  {
   "cell_type": "markdown",
   "id": "a810dc6a",
   "metadata": {},
   "source": [
    "### Model Evaluation"
   ]
  },
  {
   "cell_type": "code",
   "execution_count": 18,
   "id": "f5da021f",
   "metadata": {},
   "outputs": [
    {
     "name": "stdout",
     "output_type": "stream",
     "text": [
      "MSE      : 127.31136136203249\n",
      "\n",
      "RMSE     : 11.283233639433002\n",
      "\n",
      "MAE      : 7.178467889908257\n",
      "\n",
      "R2 Score : 0.9773922614067133\n",
      "\n"
     ]
    }
   ],
   "source": [
    "# model = RandomForestRegressor(n_jobs=-1)\n",
    "# model.fit(regression_features_train, regression_labels_train)\n",
    "# joblib.dump(model, \"./Pipelined/RandomForestRegressor.joblib\")\n",
    "model = joblib.load(\"./Pipelined/RandomForestRegressor.joblib\")\n",
    "model_pred = model.predict(regression_features_test)\n",
    "perf_df = print_metrics(regression_labels_test, model_pred, \"RandomForestRegressor\", perf_df)\n",
    "del model\n",
    "del model_pred"
   ]
  },
  {
   "cell_type": "markdown",
   "id": "38400f34",
   "metadata": {},
   "source": [
    "## Regression Analysis\n",
    "\n",
    "Split the dataset based on the Flight Arrival Delay in Minutes to determine how the regressor performance varies."
   ]
  },
  {
   "cell_type": "code",
   "execution_count": 19,
   "id": "104f17c1",
   "metadata": {},
   "outputs": [
    {
     "name": "stdout",
     "output_type": "stream",
     "text": [
      "Min:  0.0\n",
      "Max:  1209.0\n"
     ]
    }
   ],
   "source": [
    "regression_features_test[\"ArrDelayMinutes\"] = pd.DataFrame(regression_labels_test)[0].values\n",
    "print(\"Min: \", regression_features_test[\"ArrDelayMinutes\"].min())\n",
    "print(\"Max: \", regression_features_test[\"ArrDelayMinutes\"].max())\n",
    "model = joblib.load(\"./Pipelined/RandomForestRegressor.joblib\")"
   ]
  },
  {
   "cell_type": "code",
   "execution_count": 20,
   "id": "f9858342",
   "metadata": {},
   "outputs": [
    {
     "data": {
      "image/png": "[encoded data removed]",
      "text/plain": [
       "<Figure size 432x288 with 1 Axes>"
      ]
     },
     "metadata": {
      "needs_background": "light"
     },
     "output_type": "display_data"
    }
   ],
   "source": [
    "fig, ax = plt.subplots()\n",
    "plt.grid()\n",
    "ax = sns.kdeplot(regression_features_test[\"ArrDelayMinutes\"], shade=True, label='Frequency')\n",
    "ax.legend(loc='upper right')\n",
    "plt.title(\"Regression Anlaysis\", fontweight=\"bold\", fontsize=15)\n",
    "plt.savefig(\"./Img/12_05_Regression_Analysis.png\")\n",
    "plt.show()"
   ]
  },
  {
   "cell_type": "code",
   "execution_count": 21,
   "id": "a2faf5cb",
   "metadata": {},
   "outputs": [
    {
     "data": {
      "image/png": "[encoded data removed]",
      "text/plain": [
       "<Figure size 432x432 with 1 Axes>"
      ]
     },
     "metadata": {
      "needs_background": "light"
     },
     "output_type": "display_data"
    }
   ],
   "source": [
    "ranges = [0, 100, 200, 500, 1000, 1210]\n",
    "result = regression_features_test[\"ArrDelayMinutes\"].groupby(pd.cut(regression_features_test[\"ArrDelayMinutes\"], ranges)).count()\n",
    "data = {'0-100': result[0], '100-200': result[1], '200-500': result[2], '500-1000': result[3],'1000-1210': result[4]}\n",
    "names = list(data.keys())    \n",
    "values = list(data.values())\n",
    "\n",
    "fig, ax = plt.subplots(figsize=(6, 6))\n",
    "ax.grid()\n",
    "ax.set_axisbelow(True)\n",
    "ax.bar(names, values)\n",
    "plt.title(\"Regression Anlaysis\", fontweight=\"bold\", fontsize=15)\n",
    "plt.xlabel(\"Arrival Delay in Minutes\")\n",
    "plt.ylabel(\"Frequency\")\n",
    "\n",
    "rects = ax.patches\n",
    "labels = list(result)\n",
    "\n",
    "for rect, label in zip(rects, labels):\n",
    "    height = rect.get_height()\n",
    "    ax.text(\n",
    "        rect.get_x() + rect.get_width() / 2, height + 5, label, ha=\"center\", va=\"bottom\"\n",
    "    )\n",
    "plt.savefig(\"./Img/12_06_Regression_Analysis_Bar.png\")\n",
    "plt.show()\n"
   ]
  },
  {
   "cell_type": "code",
   "execution_count": 22,
   "id": "b3f1b520",
   "metadata": {},
   "outputs": [
    {
     "data": {
      "text/plain": [
       "[10757, 1963, 559, 51, 4]"
      ]
     },
     "execution_count": 22,
     "metadata": {},
     "output_type": "execute_result"
    }
   ],
   "source": [
    "list(result)"
   ]
  },
  {
   "cell_type": "markdown",
   "id": "99605402",
   "metadata": {},
   "source": [
    "### Range 0 to 100"
   ]
  },
  {
   "cell_type": "code",
   "execution_count": 23,
   "id": "201dc925",
   "metadata": {},
   "outputs": [
    {
     "name": "stdout",
     "output_type": "stream",
     "text": [
      "Shape:  (11550, 24)\n",
      "\n",
      "MSE      : 96.72068503896105\n",
      "\n",
      "RMSE     : 9.834667510341214\n",
      "\n",
      "MAE      : 6.6348761904761915\n",
      "\n",
      "R2 Score : 0.8564926261830466\n",
      "\n"
     ]
    }
   ],
   "source": [
    "df = regression_features_test.loc[regression_features_test[\"ArrDelayMinutes\"].isin(list(range(0, 100)))]\n",
    "print(\"Shape: \", df.shape, end=\"\\n\\n\")\n",
    "\n",
    "X_test = df.drop(columns=[\"ArrDelayMinutes\"])\n",
    "y_test = df[\"ArrDelayMinutes\"].values\n",
    "\n",
    "model_pred = model.predict(X_test)\n",
    "perf_df = print_metrics(y_test, model_pred, \"RandomForestRegressor\", perf_df)"
   ]
  },
  {
   "cell_type": "markdown",
   "id": "92bec275",
   "metadata": {},
   "source": [
    "### Range 100 to 200"
   ]
  },
  {
   "cell_type": "code",
   "execution_count": 24,
   "id": "96706c08",
   "metadata": {},
   "outputs": [
    {
     "name": "stdout",
     "output_type": "stream",
     "text": [
      "Shape:  (2003, 24)\n",
      "\n",
      "MSE      : 237.14721268097853\n",
      "\n",
      "RMSE     : 15.399584821707972\n",
      "\n",
      "MAE      : 9.194358462306539\n",
      "\n",
      "R2 Score : 0.6585912158061162\n",
      "\n"
     ]
    }
   ],
   "source": [
    "df = regression_features_test.loc[regression_features_test[\"ArrDelayMinutes\"].isin(list(range(100, 200)))]\n",
    "print(\"Shape: \", df.shape, end=\"\\n\\n\")\n",
    "\n",
    "X_test = df.drop(columns=[\"ArrDelayMinutes\"])\n",
    "y_test = df[\"ArrDelayMinutes\"].values\n",
    "\n",
    "model_pred = model.predict(X_test)\n",
    "perf_df = print_metrics(y_test, model_pred, \"RandomForestRegressor\", perf_df)"
   ]
  },
  {
   "cell_type": "markdown",
   "id": "9db1d80e",
   "metadata": {},
   "source": [
    "### Range 200 to 500"
   ]
  },
  {
   "cell_type": "code",
   "execution_count": 25,
   "id": "caaa9ccb",
   "metadata": {},
   "outputs": [
    {
     "name": "stdout",
     "output_type": "stream",
     "text": [
      "Shape:  (562, 24)\n",
      "\n",
      "MSE      : 339.49154039145907\n",
      "\n",
      "RMSE     : 18.425296209056153\n",
      "\n",
      "MAE      : 10.801725978647687\n",
      "\n",
      "R2 Score : 0.9143231037418088\n",
      "\n"
     ]
    }
   ],
   "source": [
    "df = regression_features_test.loc[regression_features_test[\"ArrDelayMinutes\"].isin(list(range(200, 500)))]\n",
    "print(\"Shape: \", df.shape, end=\"\\n\\n\")\n",
    "\n",
    "X_test = df.drop(columns=[\"ArrDelayMinutes\"])\n",
    "y_test = df[\"ArrDelayMinutes\"].values\n",
    "\n",
    "model_pred = model.predict(X_test)\n",
    "perf_df = print_metrics(y_test, model_pred, \"RandomForestRegressor\", perf_df)"
   ]
  },
  {
   "cell_type": "markdown",
   "id": "cd2e5679",
   "metadata": {},
   "source": [
    "### Range 500 to 1000"
   ]
  },
  {
   "cell_type": "code",
   "execution_count": 26,
   "id": "a0cddf8b",
   "metadata": {},
   "outputs": [
    {
     "name": "stdout",
     "output_type": "stream",
     "text": [
      "Shape:  (51, 24)\n",
      "\n",
      "MSE      : 411.11016666666666\n",
      "\n",
      "RMSE     : 20.275851811124156\n",
      "\n",
      "MAE      : 11.399411764705883\n",
      "\n",
      "R2 Score : 0.982030009239282\n",
      "\n"
     ]
    }
   ],
   "source": [
    "df = regression_features_test.loc[regression_features_test[\"ArrDelayMinutes\"].isin(list(range(500, 1000)))]\n",
    "print(\"Shape: \", df.shape, end=\"\\n\\n\")\n",
    "\n",
    "X_test = df.drop(columns=[\"ArrDelayMinutes\"])\n",
    "y_test = df[\"ArrDelayMinutes\"].values\n",
    "\n",
    "model_pred = model.predict(X_test)\n",
    "perf_df = print_metrics(y_test, model_pred, \"RandomForestRegressor\", perf_df)"
   ]
  },
  {
   "cell_type": "markdown",
   "id": "0f2c03db",
   "metadata": {},
   "source": [
    "### Range 1000 to 1210"
   ]
  },
  {
   "cell_type": "code",
   "execution_count": 27,
   "id": "5740e08f",
   "metadata": {},
   "outputs": [
    {
     "name": "stdout",
     "output_type": "stream",
     "text": [
      "Shape:  (4, 24)\n",
      "\n",
      "MSE      : 27.83677500000016\n",
      "\n",
      "RMSE     : 5.276056766184397\n",
      "\n",
      "MAE      : 4.457499999999982\n",
      "\n",
      "R2 Score : 0.9950918143348321\n",
      "\n"
     ]
    }
   ],
   "source": [
    "df = regression_features_test.loc[regression_features_test[\"ArrDelayMinutes\"].isin(list(range(1000, 1525)))]\n",
    "print(\"Shape: \", df.shape, end=\"\\n\\n\")\n",
    "\n",
    "X_test = df.drop(columns=[\"ArrDelayMinutes\"])\n",
    "y_test = df[\"ArrDelayMinutes\"].values\n",
    "\n",
    "model_pred = model.predict(X_test)\n",
    "perf_df = print_metrics(y_test, model_pred, \"RandomForestRegressor\", perf_df)"
   ]
  },
  {
   "cell_type": "code",
   "execution_count": 28,
   "id": "7784ab69",
   "metadata": {},
   "outputs": [
    {
     "data": {
      "text/html": [
       "<div>\n",
       "<style scoped>\n",
       "    .dataframe tbody tr th:only-of-type {\n",
       "        vertical-align: middle;\n",
       "    }\n",
       "\n",
       "    .dataframe tbody tr th {\n",
       "        vertical-align: top;\n",
       "    }\n",
       "\n",
       "    .dataframe thead th {\n",
       "        text-align: right;\n",
       "    }\n",
       "</style>\n",
       "<table border=\"1\" class=\"dataframe\">\n",
       "  <thead>\n",
       "    <tr style=\"text-align: right;\">\n",
       "      <th></th>\n",
       "      <th>Regressors</th>\n",
       "      <th>MSE</th>\n",
       "      <th>RMSE</th>\n",
       "      <th>MAE</th>\n",
       "      <th>R2</th>\n",
       "    </tr>\n",
       "  </thead>\n",
       "  <tbody>\n",
       "    <tr>\n",
       "      <th>0</th>\n",
       "      <td>RandomForestRegressor</td>\n",
       "      <td>127.311361</td>\n",
       "      <td>11.283234</td>\n",
       "      <td>7.178468</td>\n",
       "      <td>0.977392</td>\n",
       "    </tr>\n",
       "    <tr>\n",
       "      <th>1</th>\n",
       "      <td>RandomForestRegressor</td>\n",
       "      <td>96.720685</td>\n",
       "      <td>9.834668</td>\n",
       "      <td>6.634876</td>\n",
       "      <td>0.856493</td>\n",
       "    </tr>\n",
       "    <tr>\n",
       "      <th>2</th>\n",
       "      <td>RandomForestRegressor</td>\n",
       "      <td>237.147213</td>\n",
       "      <td>15.399585</td>\n",
       "      <td>9.194358</td>\n",
       "      <td>0.658591</td>\n",
       "    </tr>\n",
       "    <tr>\n",
       "      <th>3</th>\n",
       "      <td>RandomForestRegressor</td>\n",
       "      <td>339.491540</td>\n",
       "      <td>18.425296</td>\n",
       "      <td>10.801726</td>\n",
       "      <td>0.914323</td>\n",
       "    </tr>\n",
       "    <tr>\n",
       "      <th>4</th>\n",
       "      <td>RandomForestRegressor</td>\n",
       "      <td>411.110167</td>\n",
       "      <td>20.275852</td>\n",
       "      <td>11.399412</td>\n",
       "      <td>0.982030</td>\n",
       "    </tr>\n",
       "    <tr>\n",
       "      <th>5</th>\n",
       "      <td>RandomForestRegressor</td>\n",
       "      <td>27.836775</td>\n",
       "      <td>5.276057</td>\n",
       "      <td>4.457500</td>\n",
       "      <td>0.995092</td>\n",
       "    </tr>\n",
       "  </tbody>\n",
       "</table>\n",
       "</div>"
      ],
      "text/plain": [
       "              Regressors         MSE       RMSE        MAE        R2\n",
       "0  RandomForestRegressor  127.311361  11.283234   7.178468  0.977392\n",
       "1  RandomForestRegressor   96.720685   9.834668   6.634876  0.856493\n",
       "2  RandomForestRegressor  237.147213  15.399585   9.194358  0.658591\n",
       "3  RandomForestRegressor  339.491540  18.425296  10.801726  0.914323\n",
       "4  RandomForestRegressor  411.110167  20.275852  11.399412  0.982030\n",
       "5  RandomForestRegressor   27.836775   5.276057   4.457500  0.995092"
      ]
     },
     "execution_count": 28,
     "metadata": {},
     "output_type": "execute_result"
    }
   ],
   "source": [
    "perf_df"
   ]
  },
  {
   "cell_type": "code",
   "execution_count": 29,
   "id": "94d32034",
   "metadata": {},
   "outputs": [],
   "source": [
    "del model_pred\n",
    "del perf_df"
   ]
  }
 ],
 "metadata": {
  "kernelspec": {
   "display_name": "Python 3",
   "language": "python",
   "name": "python3"
  },
  "language_info": {
   "codemirror_mode": {
    "name": "ipython",
    "version": 3
   },
   "file_extension": ".py",
   "mimetype": "text/x-python",
   "name": "python",
   "nbconvert_exporter": "python",
   "pygments_lexer": "ipython3",
   "version": "3.8.8"
  }
 },
 "nbformat": 4,
 "nbformat_minor": 5
}
