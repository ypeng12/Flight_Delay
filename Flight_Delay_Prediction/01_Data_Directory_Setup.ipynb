{
 "cells": [
  {
   "cell_type": "markdown",
   "id": "limiting-contractor",
   "metadata": {},
   "source": [
    "# Flight Delay Prediction\n",
    "## Data Directory Structure Setup\n",
    "<font color='blue'>If this project was forked from the GitHub repository, this step can be omitted.</font> <br>\n",
    "\n",
    "This notebook contains the code required to setup a comfortable directory structure titled <strong>Data</strong>. <br>\n",
    "\n",
    "![Final Data Directory Structure](./Img/01_05_Final_Data_directory_structure.png)\n",
    "\n",
    "### Flight Data Directory Setup \n",
    "It will setup a folder called <strong>Flight_Data</strong> that contains all the necessary flight data for the project with shorter filenames.\n",
    "\n",
    "![Original Directory Structure](./Img/01_01_Original_flight_data_directory_structure.png)\n",
    "\n",
    "![After Setup](./Img/01_02_After_Flight_Data_setup.png)\n",
    "\n",
    "### Weather Data Directory Setup \n",
    "It will setup a folder called <strong>Weather_Data</strong> that contains all the necessary weather data for the project with shorter filenames.\n",
    "\n",
    "![Original Directory Structure](./Img/01_03_Original_weather_data_directory_structure.png)\n",
    "\n",
    "![After Setup](./Img/01_04_After_Weather_Data_setup.png)"
   ]
  },
  {
   "cell_type": "markdown",
   "id": "transparent-newspaper",
   "metadata": {},
   "source": [
    "## Flight Data Directory Setup"
   ]
  },
  {
   "cell_type": "code",
   "execution_count": null,
   "id": "loose-david",
   "metadata": {},
   "outputs": [
    {
     "name": "stdout",
     "output_type": "stream",
     "text": [
      "Data/Flight_Data/2016_1.csv\n",
      "Data/Flight_Data/2016_2.csv\n",
      "Data/Flight_Data/2016_3.csv\n",
      "Data/Flight_Data/2016_4.csv\n",
      "Data/Flight_Data/2016_5.csv\n",
      "Data/Flight_Data/2016_6.csv\n",
      "Data/Flight_Data/2016_7.csv\n",
      "Data/Flight_Data/2016_8.csv\n",
      "Data/Flight_Data/2016_9.csv\n",
      "Data/Flight_Data/2016_10.csv\n",
      "Data/Flight_Data/2016_11.csv\n",
      "Data/Flight_Data/2016_12.csv\n",
      "Data/Flight_Data/2017_1.csv\n",
      "Data/Flight_Data/2017_2.csv\n",
      "Data/Flight_Data/2017_3.csv\n",
      "Data/Flight_Data/2017_4.csv\n",
      "Data/Flight_Data/2017_5.csv\n",
      "Data/Flight_Data/2017_6.csv\n",
      "Data/Flight_Data/2017_7.csv\n"
     ]
    }
   ],
   "source": [
    "import shutil\n",
    "import os\n",
    "import pandas as pd\n",
    "\n",
    "years = (\"2016\", \"2017\")\n",
    "\n",
    "for year in years:\n",
    "    for month in range(1, 12 + 1):\n",
    "        source = f\"{year}_original/{year}/On_Time_On_Time_Performance_{year}_{month}/On_Time_On_Time_Performance_{year}_{month}.csv\"\n",
    "        destination = f\"Data/Flight_Data/{year}_{month}.csv\"\n",
    "        # create the directories in path recursively\n",
    "        os.makedirs(os.path.dirname(destination), exist_ok=True)\n",
    "        new_path = shutil.copy(source, destination)\n",
    "        print(new_path)"
   ]
  },
  {
   "cell_type": "markdown",
   "id": "geological-ordering",
   "metadata": {},
   "source": [
    "## Weather Data Directory Setup"
   ]
  },
  {
   "cell_type": "code",
   "execution_count": null,
   "id": "remarkable-peoples",
   "metadata": {},
   "outputs": [],
   "source": [
    "import pandas as pd\n",
    "years = (\"2016\", \"2017\")\n",
    "airports = (\"ATL\", \"CLT\", \"DEN\", \"DFW\", \"EWR\", \"IAH\", \"JFK\",\n",
    "            \"LAS\", \"LAX\", \"MCO\", \"MIA\", \"ORD\", \"PHX\", \"SEA\", \"SFO\")\n",
    "for airport in airports:\n",
    "    for year in years:\n",
    "        for month in range(1, 12 + 1):\n",
    "            source = f\"weather/weather/{airport}/{year}-{month}.json\"\n",
    "            destination = f\"Data/Weather_Data/{airport}/{year}_{month}.json\"\n",
    "            # create the directories in path recursively\n",
    "            os.makedirs(os.path.dirname(destination), exist_ok=True)\n",
    "            new_path = shutil.copy(source, destination)\n",
    "            print(new_path)"
   ]
  }
 ],
 "metadata": {
  "kernelspec": {
   "display_name": "Python 3",
   "language": "python",
   "name": "python3"
  },
  "language_info": {
   "codemirror_mode": {
    "name": "ipython",
    "version": 3
   },
   "file_extension": ".py",
   "mimetype": "text/x-python",
   "name": "python",
   "nbconvert_exporter": "python",
   "pygments_lexer": "ipython3",
   "version": "3.8.8"
  }
 },
 "nbformat": 4,
 "nbformat_minor": 5
}
