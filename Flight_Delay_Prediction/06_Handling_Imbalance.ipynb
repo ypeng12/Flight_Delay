{
 "cells": [
  {
   "cell_type": "markdown",
   "id": "partial-ebony",
   "metadata": {},
   "source": [
    "# Flight Delay Prediction\n",
    "## Handling Imbalance in ArrDel15\n",
    "- <strong>Environment Setup:</strong> import libraries and load the dataset\n",
    "- <strong>Imbalanced Data Analysis:</strong> understanding the classifier performance metrics and the accuracy paradox\n",
    "- <strong>Strategies:</strong> to handle the imbalanced dataset\n",
    "    - <strong>Random Undersampling:</strong> 07_Random_Under_Sampling.ipynb\n",
    "    - <strong>Random Oversampling:</strong> 08_Random_Under_Sampling.ipynb\n",
    "    - <strong>SMOTE:</strong> 09_SMOTE.ipynb"
   ]
  },
  {
   "cell_type": "markdown",
   "id": "proof-luxembourg",
   "metadata": {},
   "source": [
    "## Environment Setup"
   ]
  },
  {
   "cell_type": "code",
   "execution_count": 1,
   "id": "downtown-tunisia",
   "metadata": {},
   "outputs": [
    {
     "name": "stderr",
     "output_type": "stream",
     "text": [
      "/home/nive/anaconda3/lib/python3.8/site-packages/numpy/lib/arraysetops.py:583: FutureWarning: elementwise comparison failed; returning scalar instead, but in the future will perform elementwise comparison\n",
      "  mask |= (ar1 == a)\n"
     ]
    }
   ],
   "source": [
    "# Pre-requisites\n",
    "import pandas as pd\n",
    "import numpy as np\n",
    "import matplotlib\n",
    "import matplotlib.pyplot as plt\n",
    "\n",
    "# Data Partitioning\n",
    "from sklearn.model_selection import train_test_split\n",
    "\n",
    "df = pd.read_csv(\"Data/flight_and_weather_encoded.csv\", index_col=0)"
   ]
  },
  {
   "cell_type": "code",
   "execution_count": 2,
   "id": "proprietary-platinum",
   "metadata": {},
   "outputs": [
    {
     "data": {
      "text/html": [
       "<style>\n",
       "table {float:left}\n",
       "</style>\n"
      ],
      "text/plain": [
       "<IPython.core.display.HTML object>"
      ]
     },
     "metadata": {},
     "output_type": "display_data"
    }
   ],
   "source": [
    "%%html\n",
    "<style>\n",
    "table {float:left}\n",
    "</style>"
   ]
  },
  {
   "cell_type": "markdown",
   "id": "adequate-subscription",
   "metadata": {},
   "source": [
    "## Imbalanced Data Analysis\n",
    "\n",
    "An **imbalanced dataset** is one in which one class has disproportionate observations compared to the other classes. Each class in the dataset does not have an equal representation and imbalance causes the **skewed class distribution**.\n",
    "\n",
    "### Accuracy Paradox\n",
    "When we have a disproportionate representation of classes in a dataset, a model is likely to predict the majority class value for all predictions and achieve a high classification accuracy, also referred to as **Accuracy Paradox**.<br>\n",
    "\n",
    "To ensure that the model works great in the real world, false positives and false negatives need to be kept to a minimum. Precision helps calculate the costs of false positives, and Recall helps understand the cost of false negatives. Hence precision, recall, and F1-score are better measures of a model’s performance.<br>\n",
    "\n",
    "From the results, we have obtained, we can see that the classifier performance for the **Delayed (1.0)** observations is significantly worse. The Accuracy is unreliable since **79.04%** of the observations belong to the **Not Delayed (0.0)** class."
   ]
  },
  {
   "cell_type": "markdown",
   "id": "strategic-colombia",
   "metadata": {},
   "source": [
    "## Dataset Without Handling Imbalance"
   ]
  },
  {
   "cell_type": "code",
   "execution_count": 3,
   "id": "controlling-federation",
   "metadata": {},
   "outputs": [
    {
     "data": {
      "image/png": "[encoded data removed]",
      "text/plain": [
       "<Figure size 432x288 with 1 Axes>"
      ]
     },
     "metadata": {
      "needs_background": "light"
     },
     "output_type": "display_data"
    },
    {
     "name": "stdout",
     "output_type": "stream",
     "text": [
      "0.0    1463378\n",
      "1.0     388058\n",
      "Name: ArrDel15, dtype: int64\n"
     ]
    }
   ],
   "source": [
    "# Plotting the percentage of observations that fall under each class\n",
    "ax = df[\"ArrDel15\"].value_counts().sort_values().plot(kind=\"barh\", color=[\"r\", \"g\"])\n",
    "ax.set_axisbelow(True)\n",
    "ax.grid()\n",
    "totals= []\n",
    "for i in ax.patches:\n",
    "    totals.append(i.get_width())\n",
    "total = sum(totals)\n",
    "for i in ax.patches:\n",
    "     ax.text(i.get_width()+.3, i.get_y()+.20, \n",
    "     str(round((i.get_width()/total)*100, 2))+'%', \n",
    "     fontsize=10, color='black')\n",
    "plt.title(\"ArrDel15\", fontsize=20)\n",
    "plt.xlabel(\"Count\", fontsize=14)\n",
    "plt.ylabel(\"Class\", fontsize=14)\n",
    "plt.show()\n",
    "print(df[\"ArrDel15\"].value_counts())\n",
    "fig = ax.get_figure()\n",
    "fig.savefig(\"Img/06_01_Dataset_ArrDel15_Class_Imbalance.png\")"
   ]
  },
  {
   "cell_type": "code",
   "execution_count": 4,
   "id": "optional-visiting",
   "metadata": {},
   "outputs": [
    {
     "name": "stdout",
     "output_type": "stream",
     "text": [
      "\n",
      "Dataset shape: (1851436, 24)\n",
      "features_train shape: (1481148, 23) | features_test shape: (370288, 23)\n",
      "labels_train shape: (1481148,) | labels_test shape: (370288,)\n"
     ]
    }
   ],
   "source": [
    "features = df.loc[:, df.columns != \"ArrDel15\"]\n",
    "labels = np.asarray(df[\"ArrDel15\"])\n",
    "# Number of samples/observations/rows is greater than 100,000\n",
    "print(f\"\\nDataset shape: {df.shape}\")\n",
    "features_train, features_test, labels_train, labels_test = train_test_split(features, labels, test_size=0.20, random_state=42)\n",
    "print(f\"features_train shape: {features_train.shape} | features_test shape: {features_test.shape}\")\n",
    "print(f\"labels_train shape: {labels_train.shape} | labels_test shape: {labels_test.shape}\")\n",
    "# print(f\"{features_train.shape[1]} Features: {features_train.columns.to_list()}\")\n",
    "del features\n",
    "del labels"
   ]
  },
  {
   "cell_type": "markdown",
   "id": "sunset-relevance",
   "metadata": {},
   "source": [
    "### Performance Summary of the Different Classification Models\n",
    "<table>\n",
    "    <thead>\n",
    "        <tr>\n",
    "            <th rowspan=\"3\">Classification Model</th>\n",
    "            <th colspan=\"8\">Performance Metric</th>\n",
    "        </tr>\n",
    "        <tr>\n",
    "            <th colspan=\"2\">Precision</th>\n",
    "            <th colspan=\"2\">Recall</th>\n",
    "            <th colspan=\"2\">F1 Score</th>\n",
    "            <th rowspan=\"2\" colspan=\"2\">Accuracy</th>\n",
    "        </tr>\n",
    "        <tr>\n",
    "            <th>0.0</th>\n",
    "            <th>1.0</th>\n",
    "            <th>0.0</th>\n",
    "            <th>1.0</th>\n",
    "            <th>0.0</th>\n",
    "            <th>1.0</th>\n",
    "        </tr>\n",
    "    </thead>\n",
    "    <tbody>\n",
    "        <tr>\n",
    "            <th>Logistic Regression</th>\n",
    "            <td>0.92</td>\n",
    "            <td>0.89</td>\n",
    "            <td>0.98</td>\n",
    "            <td>0.68</td>\n",
    "            <td>0.95</td>\n",
    "            <td>0.77</td>\n",
    "            <td>0.92</td>\n",
    "        </tr>\n",
    "        <tr>\n",
    "            <th>Decision Tree Classifier</th>\n",
    "            <td>0.92</td>\n",
    "            <td>0.68</td>\n",
    "            <td>0.91</td>\n",
    "            <td>0.71</td>\n",
    "            <td>0.92</td>\n",
    "            <td>0.69</td>\n",
    "            <td>0.87</td>\n",
    "        </tr>\n",
    "        <tr>\n",
    "            <th>Extra Trees Classifier</th>\n",
    "            <td>0.93</td>\n",
    "            <td>0.81</td>\n",
    "            <td>0.96</td>\n",
    "            <td>0.73</td>\n",
    "            <td>0.94</td>\n",
    "            <td>0.77</td>\n",
    "            <td>0.91</td>\n",
    "        </tr>\n",
    "        <tr>\n",
    "            <th>Gradient Boosting Classifier</th>\n",
    "            <td>0.92</td>\n",
    "            <td>0.90</td>\n",
    "            <td>0.98</td>\n",
    "            <td>0.68</td>\n",
    "            <td>0.95</td>\n",
    "            <td>0.78</td>\n",
    "            <td>0.92</td>\n",
    "        </tr>\n",
    "        <tr>\n",
    "            <th>Random Forest Classifier</th>\n",
    "            <td>0.93</td>\n",
    "            <td>0.88</td>\n",
    "            <td>0.97</td>\n",
    "            <td>0.70</td>\n",
    "            <td>0.95</td>\n",
    "            <td>0.78</td>\n",
    "            <td>0.92</td>\n",
    "        </tr>\n",
    "    </tbody>\n",
    "</table>"
   ]
  },
  {
   "cell_type": "markdown",
   "id": "patent-anchor",
   "metadata": {},
   "source": [
    "### Metrics  for Imbalanced Data\n",
    "|Performance Metric|Inference|\n",
    "|:-|:-|\n",
    "|**Accuracy of the model**|Is basically the total number of correct predictions divided by total number of predictions|\n",
    "|**Precision of a class**|Defines how trustable the result is when the model answers that a point belongs to that class|\n",
    "|**Recall of a class**|Expresses how well the model is able to detect that class|\n",
    "|**F1 of a class**|Is given by the harmonic mean of precision and recall and combines them into one metric|"
   ]
  },
  {
   "cell_type": "markdown",
   "id": "automotive-continent",
   "metadata": {},
   "source": [
    "### Understanding these Metrics\n",
    "||High Recall|Low Recall|\n",
    "|:-|:-|:-|\n",
    "|**High Precision**|The class is perfectly handled by the model|The model can’t detect the class well but is highly trustable when it does|\n",
    "|**Low Precision**|The class is well detected but the model also include points of other classes in it|The class is poorly handled by the model|"
   ]
  },
  {
   "cell_type": "markdown",
   "id": "simplified-belle",
   "metadata": {},
   "source": [
    "## Strategies\n",
    "\n",
    "\n",
    "\n",
    "\n",
    "\n",
    "|Strategy|What happens?|\n",
    "|:-|:-|\n",
    "|**Under-sampling**|Under-sampling or down-sampling the majority class where the observations of the majority class are randomly removed to reduce its influence on the machine learning algorithm.|\n",
    "|**Over-sampling**|Over-sampling or up-sampling, the minority class where the observations for the minority class is randomly duplicated to increase the influence on the machine learning algorithm.|\n",
    "|**SMOTE**|Creating synthetic data for the minority class using SMOTE(Synthetic Minority over-sampling Technique). SMOTE takes random samples from the minority class, finds its nearest k neighbors, and then selects a point between the randomly selected data point and its nearest k neighbors to generate synthetic data.|"
   ]
  }
 ],
 "metadata": {
  "kernelspec": {
   "display_name": "Python 3",
   "language": "python",
   "name": "python3"
  },
  "language_info": {
   "codemirror_mode": {
    "name": "ipython",
    "version": 3
   },
   "file_extension": ".py",
   "mimetype": "text/x-python",
   "name": "python",
   "nbconvert_exporter": "python",
   "pygments_lexer": "ipython3",
   "version": "3.8.8"
  }
 },
 "nbformat": 4,
 "nbformat_minor": 5
}
